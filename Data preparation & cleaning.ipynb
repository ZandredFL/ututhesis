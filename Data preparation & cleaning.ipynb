{
 "cells": [
  {
   "cell_type": "code",
   "execution_count": 1,
   "id": "92b60b2a",
   "metadata": {},
   "outputs": [],
   "source": [
    "# First, import the necessary databases"
   ]
  },
  {
   "cell_type": "code",
   "execution_count": 2,
   "id": "b2aa56d7",
   "metadata": {},
   "outputs": [
    {
     "name": "stderr",
     "output_type": "stream",
     "text": [
      "[nltk_data] Downloading package wordnet to /home/zandred/nltk_data...\n",
      "[nltk_data]   Package wordnet is already up-to-date!\n",
      "[nltk_data] Downloading package punkt to /home/zandred/nltk_data...\n",
      "[nltk_data]   Package punkt is already up-to-date!\n",
      "[nltk_data] Downloading package stopwords to\n",
      "[nltk_data]     /home/zandred/nltk_data...\n",
      "[nltk_data]   Package stopwords is already up-to-date!\n"
     ]
    },
    {
     "data": {
      "text/plain": [
       "True"
      ]
     },
     "execution_count": 2,
     "metadata": {},
     "output_type": "execute_result"
    }
   ],
   "source": [
    "import numpy as np\n",
    "import pandas as pd\n",
    "import seaborn as sns\n",
    "import matplotlib.pyplot as plt\n",
    "import math as math\n",
    "import csv\n",
    "import csv\n",
    "import re\n",
    "from datetime import datetime\n",
    "import nltk\n",
    "from nltk.corpus import stopwords\n",
    "from nltk.stem import WordNetLemmatizer, PorterStemmer\n",
    "from nltk.tokenize import RegexpTokenizer\n",
    "import scipy.stats as stats\n",
    "from sklearn.preprocessing import LabelEncoder\n",
    "from sklearn.manifold import TSNE\n",
    "import matplotlib.pyplot as plt\n",
    "from collections import Counter\n",
    "nltk.download('wordnet')\n",
    "nltk.download('punkt')\n",
    "nltk.download('stopwords')"
   ]
  },
  {
   "cell_type": "code",
   "execution_count": 3,
   "id": "80232b26",
   "metadata": {},
   "outputs": [],
   "source": [
    "# Read csv file (censored)\n",
    "df = pd.read_csv('sampledatafrane')"
   ]
  },
  {
   "cell_type": "code",
   "execution_count": 4,
   "id": "5c66bce5",
   "metadata": {},
   "outputs": [],
   "source": [
    "# Normilize the data\n",
    "df.loc[:, 'as-set'] = df['as-set'].str.lower()\n",
    "df.loc[:, 'descr'] = df['descr'].str.lower()\n",
    "df.loc[:, 'members'] = df['members'].str.lower()\n",
    "df.loc[:, 'mnt-by'] = df['mnt-by'].str.lower()"
   ]
  },
  {
   "cell_type": "code",
   "execution_count": 5,
   "id": "62143a64",
   "metadata": {},
   "outputs": [],
   "source": [
    "# Data conversion and 'days_since_modified' feature creation\n",
    "\n",
    "# Convert 'last-modified' column to datetime \n",
    "df['last-modified'] = pd.to_datetime(df['last-modified'], format='%d-%m-%Y', errors='coerce')\n",
    "\n",
    "# For dates not parsed yet, try to parse them with the second format\n",
    "unparsed_dates = df['last-modified'].isna()\n",
    "df.loc[unparsed_dates, 'last-modified'] = pd.to_datetime(df[unparsed_dates]['last-modified'], format='%d/%m/%Y', errors='coerce')\n",
    "\n",
    "# Calculate 'days_since_modified' column\n",
    "current_date = pd.to_datetime('today').normalize()\n",
    "df.loc[:, 'days_since_modified'] = (current_date - df['last-modified']).dt.days\n",
    "\n",
    "# Drop 'last-modified' column\n",
    "df.drop(columns=['last-modified'], inplace=True)\n"
   ]
  },
  {
   "cell_type": "code",
   "execution_count": 6,
   "id": "6e42d220",
   "metadata": {},
   "outputs": [],
   "source": [
    "# Drop rows with non-finite values\n",
    "df = df.dropna(subset=['days_since_modified']).reset_index(drop=True)\n",
    "\n",
    "# Convert the column to integers\n",
    "df['days_since_modified'] = df['days_since_modified'].fillna(0).astype(int)"
   ]
  },
  {
   "cell_type": "code",
   "execution_count": 7,
   "id": "44e47592",
   "metadata": {},
   "outputs": [],
   "source": [
    "# Tokenization using Natural Language Toolkit\n",
    "def process_as_set(as_set):\n",
    "    # Check if the input is a string\n",
    "    if not isinstance(as_set, str) or as_set.strip() == '':\n",
    "        return []\n",
    "\n",
    "    # Remove initial 'as-' from the as-set\n",
    "    as_set = as_set.replace('as-', '', 1)\n",
    "    \n",
    "    # Tokenize the as-set\n",
    "    tokenizer = RegexpTokenizer(r'\\b\\w+\\b')\n",
    "    tokens = tokenizer.tokenize(as_set.replace('-', ' '))\n",
    "    \n",
    "    return tokens\n",
    "\n",
    "def process_mnt_by(mnt_by):\n",
    "    # Check if the input is a string\n",
    "    if not isinstance(mnt_by, str) or mnt_by.strip() == '':\n",
    "        return []\n",
    "\n",
    "    # Split the string on hyphens and spaces\n",
    "    parts = re.split('-| ', mnt_by)\n",
    "\n",
    "    # Remove unnecessary parts\n",
    "    parts = [part for part in parts if part not in ['mnt', 'maint', 'lacnic']]\n",
    "\n",
    "    # Join the parts back together and tokenize the result\n",
    "    tokenizer = RegexpTokenizer(r'\\b\\w+\\b')\n",
    "    tokens = tokenizer.tokenize(' '.join(parts))\n",
    "    \n",
    "    return tokens\n",
    "\n",
    "def process_text(text):\n",
    "    # Check if the input is a string\n",
    "    if not isinstance(text, str) or text.strip() == '':\n",
    "        return []\n",
    "\n",
    "    # Tokenize the text\n",
    "    tokenizer = RegexpTokenizer(r'\\b\\w[\\w-]*\\b')\n",
    "    tokens = tokenizer.tokenize(text)\n",
    "    \n",
    "    # Lowercase all words\n",
    "    words = [word.lower() for word in tokens]\n",
    "\n",
    "    # Handle specific cases\n",
    "    words = ['as' if word in ['as', 'ases', 'ass'] else word for word in words]\n",
    "    \n",
    "    # Remove stop words\n",
    "    stop_words = set(stopwords.words('english'))\n",
    "    stop_words.remove('as')  # Remove 'as' from the set of stop words\n",
    "    words = [word for word in words if word not in stop_words]\n",
    "    \n",
    "    # Perform lemmatization\n",
    "    wordnet = WordNetLemmatizer()\n",
    "    words = [wordnet.lemmatize(word) if word != 'as' else 'as' for word in words]\n",
    "    \n",
    "    return words\n",
    "\n",
    "def process_members(members):\n",
    "    # Check if the input is a string\n",
    "    if not isinstance(members, str) or members.strip() == '':\n",
    "        return []\n",
    "\n",
    "    # Split the string on commas\n",
    "    tokens = members.split(',')\n",
    "\n",
    "    # Remove leading and trailing whitespace from each token\n",
    "    tokens = [token.strip() for token in tokens]\n",
    "    \n",
    "    return tokens\n",
    "\n",
    "\n",
    "\n",
    "\n",
    "# Apply the function to the 'as-set' column\n",
    "df['processed_as_set'] = df['as-set'].apply(process_as_set)\n",
    "\n",
    "# Apply the function to the 'descr' column\n",
    "df['processed_descr'] = df['descr'].apply(process_text)\n",
    "\n",
    "# Apply the function to the 'mnt-by' column\n",
    "df['processed_mnt_by'] = df['mnt-by'].apply(process_mnt_by)\n",
    "\n",
    "# Apply the function to the 'members' column\n",
    "df['processed_members'] = df['members'].apply(process_members)"
   ]
  },
  {
   "cell_type": "code",
   "execution_count": 8,
   "id": "9a929c0a",
   "metadata": {},
   "outputs": [],
   "source": [
    "# New list called new_order is initialized with column names in a specific order of columns in the DF\n",
    "# Also it should be mentioned that 'mnt_by', 'descr' and 'members' are droppped \n",
    "new_order=['as-set', 'processed_as_set','processed_descr', 'processed_members','processed_mnt_by','AS_count', 'cone', 'days_since_modified','class']\n",
    "df = df.reindex(columns=new_order)\n",
    "# The column labels in the DF are renamed, \n",
    "df = df.rename(columns={'processed_mnt_by': 'mnt_by'})\n",
    "df = df.rename(columns={'processed_descr': 'descr'})\n",
    "df = df.rename(columns={'processed_members': 'members'})"
   ]
  },
  {
   "cell_type": "code",
   "execution_count": 9,
   "id": "25b4300d",
   "metadata": {},
   "outputs": [],
   "source": [
    "# Create the 'only_asn' attribute\n",
    "df['only_asn'] = 0\n",
    "# Converting members to string type\n",
    "df['members'] = df['members'].astype(str)\n",
    "\n",
    "# Iterate over each row in the DataFrame\n",
    "for index, row in df.iterrows():\n",
    "    # This line retrieves the value in the 'members' for the current row being processed and assigns it to the variable \n",
    "    members = row['members']\n",
    "    # This line uses the re.findall() function from the re module to extract all the tokens from the members string\n",
    "    tokens = re.findall(r'\\b\\w+\\b', members) \n",
    "    # This line checks if all the tokens in the tokens list match the pattern r'^as\\d+'. \n",
    "    # The pattern ^as\\d+ looks for strings that start with 'as' followed by one or more digits. \n",
    "    is_only_asn = all(re.match(r'^as\\d+', token.lower()) for token in tokens)\n",
    "    \n",
    "    # Set the 'only_asn' attribute based on the members\n",
    "    if is_only_asn:\n",
    "        df.at[index, 'only_asn'] = 1"
   ]
  },
  {
   "cell_type": "code",
   "execution_count": 10,
   "id": "3730e645",
   "metadata": {},
   "outputs": [],
   "source": [
    "# The 'relationship' attribute is created, where 0 value in cone is replaced by 0.0001\n",
    "df['relationship'] = df['AS_count'] / df['cone'].replace(0, 0.0001)"
   ]
  },
  {
   "cell_type": "code",
   "execution_count": 11,
   "id": "24b2a646",
   "metadata": {},
   "outputs": [],
   "source": [
    "# List of keywords for each attribute\n",
    "descr_keywords = ['route', 'servers', 'isp', 'exchange', 'cix', 'ix', 'nix', 'upstreams', 'vodafone']\n",
    "processed_as_set_keywords = ['rs', 'ix', 'decix', 'jaguar', 'amsix', 'lyonix', 'nix', 'cix', 'nixcz', 'upstreams', 'swissix', 'tele2', 'sfinx', 'uaeix']\n",
    "mnt_by_keywords = ['decix', 'lir', 'jaguar']\n",
    "\n",
    "# Initialize the 'keyword_present' field as 0 for all rows\n",
    "df['keyword_present'] = 0\n",
    "\n",
    "# Iterate over each row in the DF\n",
    "for index, row in df.iterrows():\n",
    "    # Check if any keyword is present in the 'descr' attribute\n",
    "    for keyword in descr_keywords:\n",
    "        if keyword in row['descr']:\n",
    "            df.at[index, 'keyword_present'] = 1\n",
    "            break  # Stop checking once a keyword is found\n",
    "\n",
    "    # Check if any keyword is present in the 'processed_as_set' attribute\n",
    "    for keyword in processed_as_set_keywords:\n",
    "        if keyword in row['processed_as_set']:\n",
    "            df.at[index, 'keyword_present'] = 1\n",
    "            break  # Stop checking once a keyword is found\n",
    "\n",
    "    # Check if any keyword is present in the 'mnt_by' attribute\n",
    "    for keyword in mnt_by_keywords:\n",
    "        if keyword in row['mnt_by']:\n",
    "            df.at[index, 'keyword_present'] = 1\n",
    "            break  # Stop checking once a keyword is found\n"
   ]
  },
  {
   "cell_type": "code",
   "execution_count": 12,
   "id": "62e55ff0",
   "metadata": {},
   "outputs": [
    {
     "name": "stdout",
     "output_type": "stream",
     "text": [
      "The number of suspiciou instances is 578\n"
     ]
    }
   ],
   "source": [
    "# Count the total number of suspicious instances in DF\n",
    "count = len(df[df['class'] == 'suspicious'])\n",
    "print(\"The number of suspiciou instances is {}\".format(count))"
   ]
  },
  {
   "cell_type": "code",
   "execution_count": 13,
   "id": "07dc5e9f",
   "metadata": {},
   "outputs": [
    {
     "data": {
      "image/png": "[encoded data removed]",
      "text/plain": [
       "<Figure size 640x480 with 1 Axes>"
      ]
     },
     "metadata": {},
     "output_type": "display_data"
    }
   ],
   "source": [
    "# Count the occurrences of each class\n",
    "class_counts = df['class'].value_counts()\n",
    "\n",
    "# Create a bar plot\n",
    "plt.bar(class_counts.index, class_counts.values)\n",
    "\n",
    "# Add labels and title\n",
    "plt.xlabel('Class')\n",
    "plt.ylabel('Count')\n",
    "plt.title('Class Distribution')\n",
    "\n",
    "# Display the plot\n",
    "plt.show()"
   ]
  },
  {
   "cell_type": "code",
   "execution_count": 14,
   "id": "ebc6bdf3",
   "metadata": {},
   "outputs": [
    {
     "name": "stdout",
     "output_type": "stream",
     "text": [
      "Legit cases make 75.59 % of the sample\n",
      "Suspicious cases make  24.41 % of the sample\n"
     ]
    }
   ],
   "source": [
    "print('Legit cases make', round(df['class'].value_counts()[0]/len(df) * 100,2), '% of the sample')\n",
    "print('Suspicious cases make ', round(df['class'].value_counts()[1]/len(df) * 100,2), '% of the sample')"
   ]
  },
  {
   "cell_type": "code",
   "execution_count": 15,
   "id": "41905a3b",
   "metadata": {},
   "outputs": [],
   "source": [
    "# Mapping dictionary\n",
    "class_mapping = {'legit': 0, 'suspicious': 1}\n",
    "\n",
    "# Convert 'class' column using mapping dictionary\n",
    "df['class'] = df['class'].map(class_mapping)"
   ]
  },
  {
   "cell_type": "code",
   "execution_count": 16,
   "id": "453a4f99",
   "metadata": {},
   "outputs": [],
   "source": [
    "columns_to_drop = ['processed_as_set', 'descr', 'members', 'mnt_by']\n",
    "df = df.drop(columns_to_drop, axis=1)"
   ]
  },
  {
   "cell_type": "code",
   "execution_count": 17,
   "id": "8a2537ea",
   "metadata": {},
   "outputs": [],
   "source": [
    "# Reorder the DF\n",
    "new_order=['as-set', 'AS_count', 'cone', 'days_since_modified', 'relationship', 'only_asn', 'keyword_present', 'class']\n",
    "df = df.reindex(columns=new_order)"
   ]
  },
  {
   "cell_type": "code",
   "execution_count": 18,
   "id": "e469838f",
   "metadata": {},
   "outputs": [
    {
     "data": {
      "text/html": [
       "<div>\n",
       "<style scoped>\n",
       "    .dataframe tbody tr th:only-of-type {\n",
       "        vertical-align: middle;\n",
       "    }\n",
       "\n",
       "    .dataframe tbody tr th {\n",
       "        vertical-align: top;\n",
       "    }\n",
       "\n",
       "    .dataframe thead th {\n",
       "        text-align: right;\n",
       "    }\n",
       "</style>\n",
       "<table border=\"1\" class=\"dataframe\">\n",
       "  <thead>\n",
       "    <tr style=\"text-align: right;\">\n",
       "      <th></th>\n",
       "      <th>as-set</th>\n",
       "      <th>AS_count</th>\n",
       "      <th>cone</th>\n",
       "      <th>days_since_modified</th>\n",
       "      <th>relationship</th>\n",
       "      <th>only_asn</th>\n",
       "      <th>keyword_present</th>\n",
       "      <th>class</th>\n",
       "    </tr>\n",
       "  </thead>\n",
       "  <tbody>\n",
       "    <tr>\n",
       "      <th>0</th>\n",
       "      <td>as-set-link</td>\n",
       "      <td>3</td>\n",
       "      <td>5</td>\n",
       "      <td>596</td>\n",
       "      <td>0.600000</td>\n",
       "      <td>0</td>\n",
       "      <td>0</td>\n",
       "      <td>0</td>\n",
       "    </tr>\n",
       "    <tr>\n",
       "      <th>1</th>\n",
       "      <td>as-mobitex</td>\n",
       "      <td>1</td>\n",
       "      <td>1</td>\n",
       "      <td>2424</td>\n",
       "      <td>1.000000</td>\n",
       "      <td>1</td>\n",
       "      <td>0</td>\n",
       "      <td>1</td>\n",
       "    </tr>\n",
       "    <tr>\n",
       "      <th>2</th>\n",
       "      <td>as-active-fibre</td>\n",
       "      <td>1</td>\n",
       "      <td>1</td>\n",
       "      <td>311</td>\n",
       "      <td>1.000000</td>\n",
       "      <td>1</td>\n",
       "      <td>0</td>\n",
       "      <td>0</td>\n",
       "    </tr>\n",
       "    <tr>\n",
       "      <th>3</th>\n",
       "      <td>as-swcmcustomers</td>\n",
       "      <td>2</td>\n",
       "      <td>1</td>\n",
       "      <td>159</td>\n",
       "      <td>2.000000</td>\n",
       "      <td>0</td>\n",
       "      <td>0</td>\n",
       "      <td>1</td>\n",
       "    </tr>\n",
       "    <tr>\n",
       "      <th>4</th>\n",
       "      <td>as-60139</td>\n",
       "      <td>4</td>\n",
       "      <td>4</td>\n",
       "      <td>1546</td>\n",
       "      <td>1.000000</td>\n",
       "      <td>1</td>\n",
       "      <td>0</td>\n",
       "      <td>0</td>\n",
       "    </tr>\n",
       "    <tr>\n",
       "      <th>...</th>\n",
       "      <td>...</td>\n",
       "      <td>...</td>\n",
       "      <td>...</td>\n",
       "      <td>...</td>\n",
       "      <td>...</td>\n",
       "      <td>...</td>\n",
       "      <td>...</td>\n",
       "      <td>...</td>\n",
       "    </tr>\n",
       "    <tr>\n",
       "      <th>2363</th>\n",
       "      <td>as394127:as-all</td>\n",
       "      <td>1</td>\n",
       "      <td>1</td>\n",
       "      <td>1129</td>\n",
       "      <td>1.000000</td>\n",
       "      <td>1</td>\n",
       "      <td>0</td>\n",
       "      <td>0</td>\n",
       "    </tr>\n",
       "    <tr>\n",
       "      <th>2364</th>\n",
       "      <td>as-avmcau</td>\n",
       "      <td>1</td>\n",
       "      <td>1</td>\n",
       "      <td>243</td>\n",
       "      <td>1.000000</td>\n",
       "      <td>1</td>\n",
       "      <td>0</td>\n",
       "      <td>0</td>\n",
       "    </tr>\n",
       "    <tr>\n",
       "      <th>2365</th>\n",
       "      <td>as11996:as-cust1</td>\n",
       "      <td>9</td>\n",
       "      <td>7</td>\n",
       "      <td>745</td>\n",
       "      <td>1.285714</td>\n",
       "      <td>0</td>\n",
       "      <td>0</td>\n",
       "      <td>1</td>\n",
       "    </tr>\n",
       "    <tr>\n",
       "      <th>2366</th>\n",
       "      <td>as264646:as-tierranet</td>\n",
       "      <td>1</td>\n",
       "      <td>1</td>\n",
       "      <td>74</td>\n",
       "      <td>1.000000</td>\n",
       "      <td>1</td>\n",
       "      <td>0</td>\n",
       "      <td>0</td>\n",
       "    </tr>\n",
       "    <tr>\n",
       "      <th>2367</th>\n",
       "      <td>as-nitel-transit</td>\n",
       "      <td>2</td>\n",
       "      <td>53</td>\n",
       "      <td>301</td>\n",
       "      <td>0.037736</td>\n",
       "      <td>0</td>\n",
       "      <td>0</td>\n",
       "      <td>0</td>\n",
       "    </tr>\n",
       "  </tbody>\n",
       "</table>\n",
       "<p>2368 rows × 8 columns</p>\n",
       "</div>"
      ],
      "text/plain": [
       "                     as-set  AS_count  cone  days_since_modified  \\\n",
       "0               as-set-link         3     5                  596   \n",
       "1                as-mobitex         1     1                 2424   \n",
       "2           as-active-fibre         1     1                  311   \n",
       "3          as-swcmcustomers         2     1                  159   \n",
       "4                  as-60139         4     4                 1546   \n",
       "...                     ...       ...   ...                  ...   \n",
       "2363        as394127:as-all         1     1                 1129   \n",
       "2364              as-avmcau         1     1                  243   \n",
       "2365       as11996:as-cust1         9     7                  745   \n",
       "2366  as264646:as-tierranet         1     1                   74   \n",
       "2367       as-nitel-transit         2    53                  301   \n",
       "\n",
       "      relationship  only_asn  keyword_present  class  \n",
       "0         0.600000         0                0      0  \n",
       "1         1.000000         1                0      1  \n",
       "2         1.000000         1                0      0  \n",
       "3         2.000000         0                0      1  \n",
       "4         1.000000         1                0      0  \n",
       "...            ...       ...              ...    ...  \n",
       "2363      1.000000         1                0      0  \n",
       "2364      1.000000         1                0      0  \n",
       "2365      1.285714         0                0      1  \n",
       "2366      1.000000         1                0      0  \n",
       "2367      0.037736         0                0      0  \n",
       "\n",
       "[2368 rows x 8 columns]"
      ]
     },
     "execution_count": 18,
     "metadata": {},
     "output_type": "execute_result"
    }
   ],
   "source": [
    "df"
   ]
  },
  {
   "cell_type": "code",
   "execution_count": 19,
   "id": "d50664db",
   "metadata": {},
   "outputs": [
    {
     "data": {
      "image/png": "[encoded data removed]",
      "text/plain": [
       "<Figure size 640x480 with 1 Axes>"
      ]
     },
     "metadata": {},
     "output_type": "display_data"
    },
    {
     "name": "stdout",
     "output_type": "stream",
     "text": [
      "Shapiro-Wilk for days_since_modified:\n",
      "Statistic: 0.7873\n",
      "p-value: 0.0000\n",
      "\n",
      "D'Agostino-Pearson for days_since_modified:\n",
      "Statistic: 584.1487\n",
      "p-value: 0.0000\n",
      "\n",
      "Anderson-Darling for days_since_modified:\n",
      "Statistic: 175.0119\n",
      "Critical Values: [0.575 0.655 0.786 0.916 1.09 ]\n",
      "Significance Levels: [15.  10.   5.   2.5  1. ]\n",
      "\n"
     ]
    },
    {
     "data": {
      "image/png": "[encoded data removed]",
      "text/plain": [
       "<Figure size 640x480 with 1 Axes>"
      ]
     },
     "metadata": {},
     "output_type": "display_data"
    },
    {
     "name": "stdout",
     "output_type": "stream",
     "text": [
      "Shapiro-Wilk for AS_count:\n",
      "Statistic: 0.4003\n",
      "p-value: 0.0000\n",
      "\n",
      "D'Agostino-Pearson for AS_count:\n",
      "Statistic: 2657.2197\n",
      "p-value: 0.0000\n",
      "\n",
      "Anderson-Darling for AS_count:\n",
      "Statistic: 452.4617\n",
      "Critical Values: [0.575 0.655 0.786 0.916 1.09 ]\n",
      "Significance Levels: [15.  10.   5.   2.5  1. ]\n",
      "\n"
     ]
    },
    {
     "data": {
      "image/png": "[encoded data removed]",
      "text/plain": [
       "<Figure size 640x480 with 1 Axes>"
      ]
     },
     "metadata": {},
     "output_type": "display_data"
    },
    {
     "name": "stdout",
     "output_type": "stream",
     "text": [
      "Shapiro-Wilk for cone:\n",
      "Statistic: 0.2848\n",
      "p-value: 0.0000\n",
      "\n",
      "D'Agostino-Pearson for cone:\n",
      "Statistic: 2297.3188\n",
      "p-value: 0.0000\n",
      "\n",
      "Anderson-Darling for cone:\n",
      "Statistic: 692.9079\n",
      "Critical Values: [0.575 0.655 0.786 0.916 1.09 ]\n",
      "Significance Levels: [15.  10.   5.   2.5  1. ]\n",
      "\n"
     ]
    }
   ],
   "source": [
    "# Select the features of interest from the DF\n",
    "features = ['days_since_modified', 'AS_count', 'cone',]\n",
    "data = df[features]\n",
    "\n",
    "# Loop over each feature and check the distribution type\n",
    "for feature in features:\n",
    "    # Extract the data for the current feature\n",
    "    feature_data = data[feature]\n",
    "    # Plot a histogram\n",
    "    plt.hist(feature_data, bins=30)\n",
    "    plt.xlabel('Values')\n",
    "    plt.ylabel('Frequency')\n",
    "    plt.title(f'Histogram of {feature}')\n",
    "    plt.show()\n",
    "\n",
    "    # Perform normality tests\n",
    "    normality_tests = {\n",
    "        'Shapiro-Wilk': stats.shapiro,\n",
    "        'D\\'Agostino-Pearson': stats.normaltest,\n",
    "        'Anderson-Darling': stats.anderson\n",
    "    }\n",
    "\n",
    "    for test_name, test_func in normality_tests.items():\n",
    "        if test_name == 'Anderson-Darling':\n",
    "            statistic, critical_values, significance_levels = test_func(feature_data)\n",
    "            print(f'{test_name} for {feature}:')\n",
    "            print(f'Statistic: {statistic:.4f}')\n",
    "            print(f'Critical Values: {critical_values}')\n",
    "            print(f'Significance Levels: {significance_levels}')\n",
    "        else:\n",
    "            statistic, p_value = test_func(feature_data)\n",
    "            print(f'{test_name} for {feature}:')\n",
    "            print(f'Statistic: {statistic:.4f}')\n",
    "            print(f'p-value: {p_value:.4f}')\n",
    "        print('')\n",
    "\n"
   ]
  },
  {
   "cell_type": "code",
   "execution_count": 20,
   "id": "7ba74586",
   "metadata": {},
   "outputs": [],
   "source": [
    "# Export the DF\n",
    "df.to_csv('final_model.csv', index=False)"
   ]
  }
 ],
 "metadata": {
  "celltoolbar": "Tags",
  "kernelspec": {
   "display_name": "Python 3 (ipykernel)",
   "language": "python",
   "name": "python3"
  },
  "language_info": {
   "codemirror_mode": {
    "name": "ipython",
    "version": 3
   },
   "file_extension": ".py",
   "mimetype": "text/x-python",
   "name": "python",
   "nbconvert_exporter": "python",
   "pygments_lexer": "ipython3",
   "version": "3.10.6"
  }
 },
 "nbformat": 4,
 "nbformat_minor": 5
}
