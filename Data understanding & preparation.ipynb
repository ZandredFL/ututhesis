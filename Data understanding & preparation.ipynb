{
 "cells": [
  {
   "cell_type": "code",
   "execution_count": 30,
   "metadata": {
    "datalore": {
     "hide_input_from_viewers": false,
     "hide_output_from_viewers": false,
     "node_id": "cLUXMlDSi7ZmijyIcDN800",
     "report_properties": {
      "rowId": "aP6MVhKCLcWXi0UOarTS5E"
     },
     "type": "CODE"
    }
   },
   "outputs": [],
   "source": [
    "# First, import the necessary databases"
   ]
  },
  {
   "cell_type": "code",
   "execution_count": 31,
   "metadata": {
    "datalore": {
     "hide_input_from_viewers": false,
     "hide_output_from_viewers": false,
     "node_id": "qP6X6LSMflAhCz9IB4jTlU",
     "report_properties": {
      "relativeY": 0,
      "rowId": "fFy6fIyZtpVgfIpV2nT6S4"
     },
     "type": "CODE"
    }
   },
   "outputs": [],
   "source": [
    "import numpy as np\n",
    "import pandas as pd\n",
    "import seaborn as sns\n",
    "import matplotlib.pyplot as plt\n",
    "import math as math\n",
    "import csv\n",
    "import re\n",
    "from datetime import datetime"
   ]
  },
  {
   "cell_type": "code",
   "execution_count": 32,
   "metadata": {
    "datalore": {
     "hide_input_from_viewers": false,
     "hide_output_from_viewers": false,
     "node_id": "dX21t7TCbDiAgRA8cWA0jr",
     "report_properties": {
      "rowId": "aP6MVhKCLcWXi0UOarTS5E"
     },
     "type": "CODE"
    }
   },
   "outputs": [],
   "source": [
    "# Next, parse the TXT files"
   ]
  },
  {
   "cell_type": "code",
   "execution_count": 33,
   "metadata": {
    "datalore": {
     "hide_input_from_viewers": false,
     "hide_output_from_viewers": false,
     "node_id": "K7PoUJQ0luWwEJxLAONyHR",
     "report_properties": {
      "relativeY": 0,
      "rowId": "pMMomToCm9AyW9NYNPy1HR"
     },
     "type": "CODE"
    }
   },
   "outputs": [],
   "source": [
    "# RIPE NCC DATAFRAME\n",
    "# First of all, it is important to import the .txt file with database\n",
    "# For this the path to the file is defined\n",
    "# File path\n",
    "filename = '/data/notebook_files/ripencc_as-set_db.txt'\n",
    "\n",
    "# Read all lines from the opened file\n",
    "with open(filename, 'r', encoding=\"ISO-8859-1\") as file:\n",
    "    lines = file.readlines()\n",
    "\n",
    "# Initialize the data dictionary\n",
    "data = {'as-set': [], 'descr': [], 'members': [], 'mnt-by': [], 'last-modified': [], 'source': []}\n",
    "current_as_set = current_descr = current_members = current_mnt_by = current_last_modified = current_source = ''\n",
    "\n",
    "# Iterates through each line\n",
    "for line in lines:\n",
    "    if line.startswith('as-set:'):\n",
    "        if current_as_set:\n",
    "            data['as-set'].append(current_as_set)\n",
    "            data['descr'].append(current_descr)\n",
    "            data['members'].append(current_members.rstrip(', '))\n",
    "            data['mnt-by'].append(current_mnt_by)\n",
    "            data['last-modified'].append(current_last_modified)\n",
    "            data['source'].append(current_source)\n",
    "        split_line = line.strip().split(':', 1)\n",
    "        current_as_set = split_line[1].strip() if len(split_line) > 1 else ''\n",
    "        current_descr = current_members = current_mnt_by = current_last_modified = current_source = ''\n",
    "    elif line.startswith('descr:'):\n",
    "        split_line = line.strip().split(':', 1)\n",
    "        current_descr = split_line[1].strip() if len(split_line) > 1 else ''\n",
    "    elif line.startswith('members:'):\n",
    "        new_members = re.findall('AS[\\w-]+', line)\n",
    "        if new_members:\n",
    "            current_members += ', '.join(new_members) + ', '\n",
    "    elif line.startswith('mnt-by:'):\n",
    "        split_line = line.strip().split(':', 1)\n",
    "        current_mnt_by = split_line[1].strip() if len(split_line) > 1 else ''\n",
    "    elif line.startswith('last-modified:'):\n",
    "        split_line = line.strip().split(':', 1)\n",
    "        date_str = split_line[1].strip() if len(split_line) > 1 else ''\n",
    "        date_str = date_str.split('T')[0]\n",
    "        if date_str:\n",
    "            date_obj = datetime.strptime(date_str, '%Y-%m-%d')  # Convert to datetime object\n",
    "            current_last_modified = date_obj.strftime('%d-%m-%Y')  # Convert to the desired format\n",
    "    elif line.startswith('source:'):\n",
    "        split_line = line.strip().split(':', 1)\n",
    "        current_source = split_line[1].strip() if len(split_line) > 1 else ''\n",
    "\n",
    "# Add the last entry\n",
    "data['as-set'].append(current_as_set)\n",
    "data['descr'].append(current_descr)\n",
    "data['members'].append(current_members.rstrip(', '))\n",
    "data['mnt-by'].append(current_mnt_by)\n",
    "data['last-modified'].append(current_last_modified)\n",
    "data['source'].append(current_source)\n",
    "\n",
    "# Convert to a pandas DataFrame\n",
    "df_ripe = pd.DataFrame(data)\n",
    "\n",
    "# Function to count AS members\n",
    "def count_as_members(members_str):\n",
    "    if not members_str:\n",
    "        return 0\n",
    "    members_list = members_str.split(', ')\n",
    "    return len(members_list)\n",
    "\n",
    "# Add a new 'AS_count' column\n",
    "df_ripe['AS_count'] = df_ripe['members'].apply(count_as_members)\n",
    "\n",
    "# Strip leading/trailing whitespaces from 'as-set' values\n",
    "df_ripe['as-set'] = df_ripe['as-set'].str.strip()"
   ]
  },
  {
   "cell_type": "code",
   "execution_count": 34,
   "metadata": {
    "datalore": {
     "hide_input_from_viewers": true,
     "hide_output_from_viewers": true,
     "node_id": "Fy3URjFMpeXLtEjKmM7Dz9",
     "type": "CODE"
    }
   },
   "outputs": [
    {
     "data": {
      "text/plain": [
       "(24522, 7)"
      ]
     },
     "metadata": {},
     "output_type": "display_data"
    }
   ],
   "source": [
    "# Prints the shape of the DataFrame, where the first value corresponds to the number of rows, \n",
    "# and the second value corresponds to the number of features (columns)\n",
    "df_ripe.shape"
   ]
  },
  {
   "cell_type": "code",
   "execution_count": 35,
   "metadata": {
    "datalore": {
     "hide_input_from_viewers": false,
     "hide_output_from_viewers": false,
     "node_id": "DEcuBAqETydbNFypsYRYuq",
     "report_properties": {
      "rowId": "aP6MVhKCLcWXi0UOarTS5E"
     },
     "type": "CODE"
    }
   },
   "outputs": [
    {
     "data": {
      "text/html": [
       "<div>\n",
       "<style scoped>\n",
       "    .dataframe tbody tr th:only-of-type {\n",
       "        vertical-align: middle;\n",
       "    }\n",
       "\n",
       "    .dataframe tbody tr th {\n",
       "        vertical-align: top;\n",
       "    }\n",
       "\n",
       "    .dataframe thead th {\n",
       "        text-align: right;\n",
       "    }\n",
       "</style>\n",
       "<table border=\"1\" class=\"dataframe\">\n",
       "  <thead>\n",
       "    <tr style=\"text-align: right;\">\n",
       "      <th></th>\n",
       "      <th>as-set</th>\n",
       "      <th>descr</th>\n",
       "      <th>members</th>\n",
       "      <th>mnt-by</th>\n",
       "      <th>last-modified</th>\n",
       "      <th>source</th>\n",
       "      <th>AS_count</th>\n",
       "    </tr>\n",
       "  </thead>\n",
       "  <tbody>\n",
       "    <tr>\n",
       "      <th>0</th>\n",
       "      <td>AS-RESTENA</td>\n",
       "      <td>Educational and research network for Luxembourg</td>\n",
       "      <td>AS2602, AS42909, AS51966, AS-LXP, AS-VDL</td>\n",
       "      <td>AS2602-MNT</td>\n",
       "      <td>08-09-2022</td>\n",
       "      <td>RIPE</td>\n",
       "      <td>5</td>\n",
       "    </tr>\n",
       "    <tr>\n",
       "      <th>1</th>\n",
       "      <td>AS-TMPEBONECWIX</td>\n",
       "      <td>CWIX ASes announced to EBONE</td>\n",
       "      <td>AS3727, AS4445, AS4610, AS4624, AS4637, AS4654...</td>\n",
       "      <td>EBONE-MNT</td>\n",
       "      <td>21-09-2001</td>\n",
       "      <td>RIPE</td>\n",
       "      <td>24</td>\n",
       "    </tr>\n",
       "    <tr>\n",
       "      <th>2</th>\n",
       "      <td>AS-DFNFROMCOLOGNE</td>\n",
       "      <td>ASs accepted by DFN from the University of Col...</td>\n",
       "      <td>AS5520, AS6733</td>\n",
       "      <td>DFN-MNT</td>\n",
       "      <td>12-04-2010</td>\n",
       "      <td>RIPE</td>\n",
       "      <td>2</td>\n",
       "    </tr>\n",
       "    <tr>\n",
       "      <th>3</th>\n",
       "      <td>AS-NETMATTERS</td>\n",
       "      <td>NetMatters UK</td>\n",
       "      <td>AS6765, AS3344</td>\n",
       "      <td>AS8407-MNT</td>\n",
       "      <td>21-09-2001</td>\n",
       "      <td>RIPE</td>\n",
       "      <td>2</td>\n",
       "    </tr>\n",
       "    <tr>\n",
       "      <th>4</th>\n",
       "      <td>AS-UDNGRAZ</td>\n",
       "      <td>UDN Graz AS Macro</td>\n",
       "      <td>AS1113, AS1114, AS1118, AS2604, AS2036</td>\n",
       "      <td>ACONET-LIR-MNT</td>\n",
       "      <td>05-04-2017</td>\n",
       "      <td>RIPE</td>\n",
       "      <td>5</td>\n",
       "    </tr>\n",
       "    <tr>\n",
       "      <th>...</th>\n",
       "      <td>...</td>\n",
       "      <td>...</td>\n",
       "      <td>...</td>\n",
       "      <td>...</td>\n",
       "      <td>...</td>\n",
       "      <td>...</td>\n",
       "      <td>...</td>\n",
       "    </tr>\n",
       "    <tr>\n",
       "      <th>24517</th>\n",
       "      <td>AS199750:AS-ALL</td>\n",
       "      <td></td>\n",
       "      <td></td>\n",
       "      <td>OLIVIA-MNT</td>\n",
       "      <td>02-06-2023</td>\n",
       "      <td>RIPE</td>\n",
       "      <td>0</td>\n",
       "    </tr>\n",
       "    <tr>\n",
       "      <th>24518</th>\n",
       "      <td>AS197991:AS-ESPANIX</td>\n",
       "      <td></td>\n",
       "      <td>AS197991, AS6895</td>\n",
       "      <td>JCMQ2-MNT</td>\n",
       "      <td>02-06-2023</td>\n",
       "      <td>RIPE</td>\n",
       "      <td>2</td>\n",
       "    </tr>\n",
       "    <tr>\n",
       "      <th>24519</th>\n",
       "      <td>AS210125:AS-PRIAM-SET</td>\n",
       "      <td></td>\n",
       "      <td>AS210125</td>\n",
       "      <td>mrdtr-mnt</td>\n",
       "      <td>02-06-2023</td>\n",
       "      <td>RIPE</td>\n",
       "      <td>1</td>\n",
       "    </tr>\n",
       "    <tr>\n",
       "      <th>24520</th>\n",
       "      <td>AS211509:AS-RUDAKI</td>\n",
       "      <td></td>\n",
       "      <td>AS211509</td>\n",
       "      <td>RUDAKI-MNT</td>\n",
       "      <td>02-06-2023</td>\n",
       "      <td>RIPE</td>\n",
       "      <td>1</td>\n",
       "    </tr>\n",
       "    <tr>\n",
       "      <th>24521</th>\n",
       "      <td>AS213249:AS-DRAPMECK</td>\n",
       "      <td></td>\n",
       "      <td></td>\n",
       "      <td>drapmecknet-mnt</td>\n",
       "      <td>02-06-2023</td>\n",
       "      <td>RIPE</td>\n",
       "      <td>0</td>\n",
       "    </tr>\n",
       "  </tbody>\n",
       "</table>\n",
       "<p>24522 rows × 7 columns</p>\n",
       "</div>"
      ]
     },
     "metadata": {},
     "output_type": "display_data"
    }
   ],
   "source": [
    "df_ripe"
   ]
  },
  {
   "cell_type": "code",
   "execution_count": 36,
   "metadata": {
    "datalore": {
     "hide_input_from_viewers": false,
     "hide_output_from_viewers": false,
     "node_id": "TSfYPvwZhUEViZprzhwv3j",
     "report_properties": {
      "relativeY": 0,
      "rowId": "XJiyWLtagnjGVNDtVxKTjK"
     },
     "type": "CODE"
    }
   },
   "outputs": [],
   "source": [
    "# APNIC DATAFRAME\n",
    "# The code is exactly the same as RIPE NCC, therefore no comments will be written for this DF\n",
    "filename = '/data/notebook_files/apnic_as-set_db.txt'\n",
    "\n",
    "with open(filename,'r', encoding=\"ISO-8859-1\",) as file:\n",
    "    lines = file.readlines()\n",
    "\n",
    "# Initialize the data dictionary\n",
    "data = {'as-set': [], 'descr': [], 'members': [], 'mnt-by': [], 'last-modified': [], 'source': []}\n",
    "current_as_set = current_descr = current_members = current_mnt_by = current_last_modified = current_source = ''\n",
    "\n",
    "# Iterates through each line\n",
    "for line in lines:\n",
    "    if line.startswith('as-set:'):\n",
    "        if current_as_set:\n",
    "            data['as-set'].append(current_as_set)\n",
    "            data['descr'].append(current_descr)\n",
    "            data['members'].append(current_members.rstrip(', '))\n",
    "            data['mnt-by'].append(current_mnt_by)\n",
    "            data['last-modified'].append(current_last_modified)\n",
    "            data['source'].append(current_source)\n",
    "        split_line = line.strip().split(':', 1)\n",
    "        current_as_set = split_line[1].strip() if len(split_line) > 1 else ''\n",
    "        current_descr = current_members = current_mnt_by = current_last_modified = current_source = ''\n",
    "    elif line.startswith('descr:'):\n",
    "        split_line = line.strip().split(':', 1)\n",
    "        current_descr = split_line[1].strip() if len(split_line) > 1 else ''\n",
    "    elif line.startswith('members:'):\n",
    "        new_members = re.findall('AS[\\w-]+', line)\n",
    "        if new_members:\n",
    "            current_members += ', '.join(new_members) + ', '\n",
    "    elif line.startswith('mnt-by:'):\n",
    "        split_line = line.strip().split(':', 1)\n",
    "        current_mnt_by = split_line[1].strip() if len(split_line) > 1 else ''\n",
    "    elif line.startswith('last-modified:'):\n",
    "        split_line = line.strip().split(' ', 1)\n",
    "        date_str = split_line[1] if len(split_line) > 1 else ''\n",
    "        date_str = date_str.split('T')[0] # Take only the date part before 'T'\n",
    "        date_str = date_str.strip() # Remove leading and trailing whitespaces\n",
    "        if date_str:\n",
    "            date_obj = datetime.strptime(date_str, '%Y-%m-%d') # Convert to datetime object\n",
    "            current_last_modified = date_obj.strftime('%d-%m-%Y') # Convert to the desired format\n",
    "    elif line.startswith('source:'):\n",
    "        split_line = line.strip().split(':', 1)\n",
    "        current_source = split_line[1].strip() if len(split_line) > 1 else ''\n",
    "\n",
    "# Add the last entry\n",
    "data['as-set'].append(current_as_set)\n",
    "data['descr'].append(current_descr)\n",
    "data['members'].append(current_members.rstrip(', '))\n",
    "data['mnt-by'].append(current_mnt_by)\n",
    "data['last-modified'].append(current_last_modified)\n",
    "data['source'].append(current_source)\n",
    "\n",
    "# Convert to a pandas DataFrame\n",
    "df_apnic = pd.DataFrame(data)\n",
    "\n",
    "# Function to count AS members\n",
    "def count_as_members(members_str):\n",
    "    if not members_str:\n",
    "        return 0\n",
    "    members_list = members_str.split(', ')\n",
    "    return len(members_list)\n",
    "\n",
    "# Add a new 'AS_count' column\n",
    "df_apnic['AS_count'] = df_apnic['members'].apply(count_as_members)\n",
    "\n",
    "# Strip leading/trailing whitespaces from 'as-set' values\n",
    "df_apnic['as-set'] = df_apnic['as-set'].str.strip()"
   ]
  },
  {
   "cell_type": "code",
   "execution_count": 37,
   "metadata": {
    "datalore": {
     "hide_input_from_viewers": false,
     "hide_output_from_viewers": false,
     "node_id": "lh2Y6EAQhHNgtpQEj1wFHA",
     "report_properties": {
      "rowId": "aP6MVhKCLcWXi0UOarTS5E"
     },
     "type": "CODE"
    }
   },
   "outputs": [
    {
     "data": {
      "text/plain": [
       "(3653, 7)"
      ]
     },
     "metadata": {},
     "output_type": "display_data"
    }
   ],
   "source": [
    "df_apnic.shape"
   ]
  },
  {
   "cell_type": "code",
   "execution_count": 38,
   "metadata": {
    "datalore": {
     "hide_input_from_viewers": false,
     "hide_output_from_viewers": false,
     "node_id": "5WLncPhYBW2a0jLiDpVAXm",
     "report_properties": {
      "rowId": "aP6MVhKCLcWXi0UOarTS5E"
     },
     "type": "CODE"
    }
   },
   "outputs": [
    {
     "data": {
      "text/html": [
       "<div>\n",
       "<style scoped>\n",
       "    .dataframe tbody tr th:only-of-type {\n",
       "        vertical-align: middle;\n",
       "    }\n",
       "\n",
       "    .dataframe tbody tr th {\n",
       "        vertical-align: top;\n",
       "    }\n",
       "\n",
       "    .dataframe thead th {\n",
       "        text-align: right;\n",
       "    }\n",
       "</style>\n",
       "<table border=\"1\" class=\"dataframe\">\n",
       "  <thead>\n",
       "    <tr style=\"text-align: right;\">\n",
       "      <th></th>\n",
       "      <th>as-set</th>\n",
       "      <th>descr</th>\n",
       "      <th>members</th>\n",
       "      <th>mnt-by</th>\n",
       "      <th>last-modified</th>\n",
       "      <th>source</th>\n",
       "      <th>AS_count</th>\n",
       "    </tr>\n",
       "  </thead>\n",
       "  <tbody>\n",
       "    <tr>\n",
       "      <th>0</th>\n",
       "      <td>AS-GIPAU</td>\n",
       "      <td>GIP AU AS Macro</td>\n",
       "      <td>AS4805, AS4736, AS4744, AS4752, AS7567, AS7617...</td>\n",
       "      <td>GLOBAL-ONE-ANZOPS-AP</td>\n",
       "      <td>04-09-2008</td>\n",
       "      <td>APNIC</td>\n",
       "      <td>7</td>\n",
       "    </tr>\n",
       "    <tr>\n",
       "      <th>1</th>\n",
       "      <td>AS-PDOXUPLINKS</td>\n",
       "      <td>All upstream Providers for Paradox Digital</td>\n",
       "      <td>AS-PDOXUPLINKAU, AS-PDOXUPLINKUS</td>\n",
       "      <td>PDOX-NOC-AP</td>\n",
       "      <td>04-09-2008</td>\n",
       "      <td>APNIC</td>\n",
       "      <td>2</td>\n",
       "    </tr>\n",
       "    <tr>\n",
       "      <th>2</th>\n",
       "      <td>AS-PDOXPEERP</td>\n",
       "      <td>Peering points with Paradox Digital</td>\n",
       "      <td>AS65350, AS7653</td>\n",
       "      <td>PDOX-NOC-AP</td>\n",
       "      <td>04-09-2008</td>\n",
       "      <td>APNIC</td>\n",
       "      <td>2</td>\n",
       "    </tr>\n",
       "    <tr>\n",
       "      <th>3</th>\n",
       "      <td>AS-PDOXUPLINKUS</td>\n",
       "      <td>US based upstream Providers for Paradox Digital</td>\n",
       "      <td>AS7657, AS4565, AS5650, AS6461</td>\n",
       "      <td>PDOX-NOC-AP</td>\n",
       "      <td>04-09-2008</td>\n",
       "      <td>APNIC</td>\n",
       "      <td>4</td>\n",
       "    </tr>\n",
       "    <tr>\n",
       "      <th>4</th>\n",
       "      <td>AS-PDOXUPLINKAU</td>\n",
       "      <td>AU based upstream Providers for Paradox Digital</td>\n",
       "      <td>AS703, AS1221, AS2764, AS7474</td>\n",
       "      <td>PDOX-NOC-AP</td>\n",
       "      <td>04-09-2008</td>\n",
       "      <td>APNIC</td>\n",
       "      <td>4</td>\n",
       "    </tr>\n",
       "    <tr>\n",
       "      <th>...</th>\n",
       "      <td>...</td>\n",
       "      <td>...</td>\n",
       "      <td>...</td>\n",
       "      <td>...</td>\n",
       "      <td>...</td>\n",
       "      <td>...</td>\n",
       "      <td>...</td>\n",
       "    </tr>\n",
       "    <tr>\n",
       "      <th>3648</th>\n",
       "      <td>AS17456:AS-CUSTOMERS</td>\n",
       "      <td>PDS Tranist Customers ASNs</td>\n",
       "      <td>AS142139</td>\n",
       "      <td>MAINT-GU-PDSGUAM</td>\n",
       "      <td>02-06-2023</td>\n",
       "      <td>APNIC</td>\n",
       "      <td>1</td>\n",
       "    </tr>\n",
       "    <tr>\n",
       "      <th>3649</th>\n",
       "      <td>AS17456:AS-ALL</td>\n",
       "      <td>PDS ASN and Its Transit Customer ASNs</td>\n",
       "      <td>AS17456, AS17456, AS-CUSTOMERS</td>\n",
       "      <td>MAINT-GU-PDSGUAM</td>\n",
       "      <td>02-06-2023</td>\n",
       "      <td>APNIC</td>\n",
       "      <td>3</td>\n",
       "    </tr>\n",
       "    <tr>\n",
       "      <th>3650</th>\n",
       "      <td>AS142485:AS-SUNDARAMBROADBAND</td>\n",
       "      <td>SUNDARAM BROADBAND PRIVATE LIMITED</td>\n",
       "      <td>AS142485, AS141560</td>\n",
       "      <td>MAINT-IN-SUNDARAMBROADBAND</td>\n",
       "      <td>02-06-2023</td>\n",
       "      <td>APNIC</td>\n",
       "      <td>2</td>\n",
       "    </tr>\n",
       "    <tr>\n",
       "      <th>3651</th>\n",
       "      <td>AS137134:AS-TRIPLE</td>\n",
       "      <td>Triple Play Broadband Services India Pvt Ltd</td>\n",
       "      <td>AS137134</td>\n",
       "      <td>MAINT-IN-TRIPLE</td>\n",
       "      <td>02-06-2023</td>\n",
       "      <td>APNIC</td>\n",
       "      <td>1</td>\n",
       "    </tr>\n",
       "    <tr>\n",
       "      <th>3652</th>\n",
       "      <td>AS151114:AS-KSCCL</td>\n",
       "      <td>Karimnagar Smart City Corporation Limited</td>\n",
       "      <td>AS151114</td>\n",
       "      <td>MAINT-IN-KSCCL</td>\n",
       "      <td>02-06-2023</td>\n",
       "      <td>APNIC</td>\n",
       "      <td>1</td>\n",
       "    </tr>\n",
       "  </tbody>\n",
       "</table>\n",
       "<p>3653 rows × 7 columns</p>\n",
       "</div>"
      ]
     },
     "metadata": {},
     "output_type": "display_data"
    }
   ],
   "source": [
    "df_apnic"
   ]
  },
  {
   "cell_type": "code",
   "execution_count": 39,
   "metadata": {
    "datalore": {
     "hide_input_from_viewers": false,
     "hide_output_from_viewers": false,
     "node_id": "6pxsKe3LPbvP2OPsfxI56X",
     "report_properties": {
      "relativeY": 0,
      "rowId": "Nde9kMLk4WzlhP8w2Tuz8k"
     },
     "type": "CODE"
    }
   },
   "outputs": [],
   "source": [
    "# ARIN DATAFRAME\n",
    "# The code is exactly the same as RIPE NCC (with a minor difference), therefore no comments will be written for this DF\n",
    "filename = '/data/notebook_files/arin_as-set_db.txt'\n",
    "\n",
    "with open(filename,'r', encoding=\"ISO-8859-1\",) as file:\n",
    "    lines = file.readlines()\n",
    "\n",
    "# Initialize the data dictionary\n",
    "data = {'as-set': [], 'descr': [], 'members': [], 'mnt-by': [], 'last-modified': [], 'source': []}\n",
    "current_as_set = current_descr = current_members = current_mnt_by = current_last_modified = current_source = ''\n",
    "\n",
    "# Iterates through each line\n",
    "for line in lines:\n",
    "    if line.startswith('as-set:'):\n",
    "        if current_as_set:\n",
    "            data['as-set'].append(current_as_set)\n",
    "            data['descr'].append(current_descr)\n",
    "            data['members'].append(current_members.rstrip(', '))\n",
    "            data['mnt-by'].append(current_mnt_by)\n",
    "            data['last-modified'].append(current_last_modified)\n",
    "            data['source'].append(current_source)\n",
    "        split_line = line.strip().split(':', 1)\n",
    "        current_as_set = split_line[1].strip() if len(split_line) > 1 else ''\n",
    "        current_descr = current_members = current_mnt_by = current_last_modified = current_source = ''\n",
    "    elif line.startswith('descr:'):\n",
    "        split_line = line.strip().split(':', 1)\n",
    "        current_descr = split_line[1].strip() if len(split_line) > 1 else ''\n",
    "    elif line.startswith('members:'):\n",
    "        new_members = re.findall('AS[\\w-]+', line)\n",
    "        if new_members:\n",
    "            current_members += ', '.join(new_members) + ', '\n",
    "    elif line.startswith('mnt-by:'):\n",
    "        split_line = line.strip().split(':', 1)\n",
    "        current_mnt_by = split_line[1].strip() if len(split_line) > 1 else ''\n",
    "    elif 'changed:' in line and not current_last_modified:\n",
    "        split_line = line.split('changed:')[1].strip().split(' ')\n",
    "        if len(split_line) > 1:  # if there is email and date\n",
    "            date_str = split_line[1].strip()  # get the date string and strip any leading or trailing spaces\n",
    "            if date_str and len(date_str) == 8:  # check if date_str is not empty and if it's the correct length\n",
    "                try:\n",
    "                    date_obj = datetime.strptime(date_str, '%Y%m%d')  # convert to datetime object\n",
    "                    current_last_modified = date_obj.strftime('%d-%m-%Y')  # convert to the desired format\n",
    "                except ValueError:\n",
    "                    print(f\"Failed to parse date: {date_str}\")\n",
    "                    current_last_modified = ''\n",
    "    elif line.startswith('source:'):\n",
    "        split_line = line.strip().split(':', 1)\n",
    "        current_source = split_line[1].strip() if len(split_line) > 1 else ''\n",
    "\n",
    "# Add the last entry\n",
    "data['as-set'].append(current_as_set)\n",
    "data['descr'].append(current_descr)\n",
    "data['members'].append(current_members.rstrip(', '))\n",
    "data['mnt-by'].append(current_mnt_by)\n",
    "data['last-modified'].append(current_last_modified)\n",
    "data['source'].append(current_source)\n",
    "\n",
    "# Convert to a pandas DataFrame\n",
    "df_arin = pd.DataFrame(data)\n",
    "\n",
    "# Function to count AS members\n",
    "def count_as_members(members_str):\n",
    "    if not members_str:\n",
    "        return 0\n",
    "    members_list = members_str.split(', ')\n",
    "    return len(members_list)\n",
    "\n",
    "# Add a new 'AS_count' column\n",
    "df_arin['AS_count'] = df_arin['members'].apply(count_as_members)\n",
    "\n",
    "# Strip leading/trailing whitespaces from 'as-set' values\n",
    "df_arin['as-set'] = df_arin['as-set'].str.strip()"
   ]
  },
  {
   "cell_type": "code",
   "execution_count": 40,
   "metadata": {
    "datalore": {
     "hide_input_from_viewers": false,
     "hide_output_from_viewers": false,
     "node_id": "tgiZSE4lFpkqllpnlpjly9",
     "report_properties": {
      "relativeY": 0,
      "rowId": "XqVVYWrEYGNZYwk8qldBF2"
     },
     "type": "CODE"
    }
   },
   "outputs": [
    {
     "data": {
      "text/plain": [
       "(3633, 7)"
      ]
     },
     "metadata": {},
     "output_type": "display_data"
    }
   ],
   "source": [
    "df_arin.shape"
   ]
  },
  {
   "cell_type": "code",
   "execution_count": 41,
   "metadata": {
    "datalore": {
     "hide_input_from_viewers": false,
     "hide_output_from_viewers": false,
     "node_id": "5Nm18ACWAWxcWaJnvvlrGi",
     "report_properties": {
      "rowId": "aP6MVhKCLcWXi0UOarTS5E"
     },
     "type": "CODE"
    }
   },
   "outputs": [
    {
     "data": {
      "text/html": [
       "<div>\n",
       "<style scoped>\n",
       "    .dataframe tbody tr th:only-of-type {\n",
       "        vertical-align: middle;\n",
       "    }\n",
       "\n",
       "    .dataframe tbody tr th {\n",
       "        vertical-align: top;\n",
       "    }\n",
       "\n",
       "    .dataframe thead th {\n",
       "        text-align: right;\n",
       "    }\n",
       "</style>\n",
       "<table border=\"1\" class=\"dataframe\">\n",
       "  <thead>\n",
       "    <tr style=\"text-align: right;\">\n",
       "      <th></th>\n",
       "      <th>as-set</th>\n",
       "      <th>descr</th>\n",
       "      <th>members</th>\n",
       "      <th>mnt-by</th>\n",
       "      <th>last-modified</th>\n",
       "      <th>source</th>\n",
       "      <th>AS_count</th>\n",
       "    </tr>\n",
       "  </thead>\n",
       "  <tbody>\n",
       "    <tr>\n",
       "      <th>0</th>\n",
       "      <td>AS1001:AS-ACI</td>\n",
       "      <td>Academy City Internet LLC</td>\n",
       "      <td>AS1001, AS1040, AS969</td>\n",
       "      <td>MNT-ACIL-25</td>\n",
       "      <td></td>\n",
       "      <td>ARIN</td>\n",
       "      <td>3</td>\n",
       "    </tr>\n",
       "    <tr>\n",
       "      <th>1</th>\n",
       "      <td>AS-1002-CUSTOMERS</td>\n",
       "      <td>Customers</td>\n",
       "      <td>AS1002, AS147297, AS210527, AS44570, AS-ROUTE4...</td>\n",
       "      <td>MNT-VHL-190</td>\n",
       "      <td></td>\n",
       "      <td>ARIN</td>\n",
       "      <td>9</td>\n",
       "    </tr>\n",
       "    <tr>\n",
       "      <th>2</th>\n",
       "      <td>AS1007:AS-PEERS</td>\n",
       "      <td>Hotel de la collectivite de Saint-Martin, rue ...</td>\n",
       "      <td></td>\n",
       "      <td>MNT-COLLE-72</td>\n",
       "      <td></td>\n",
       "      <td>ARIN</td>\n",
       "      <td>0</td>\n",
       "    </tr>\n",
       "    <tr>\n",
       "      <th>3</th>\n",
       "      <td>AS1011:AS-SET</td>\n",
       "      <td>AccutarBio</td>\n",
       "      <td>AS1011</td>\n",
       "      <td>MNT-ABC-630</td>\n",
       "      <td></td>\n",
       "      <td>ARIN</td>\n",
       "      <td>1</td>\n",
       "    </tr>\n",
       "    <tr>\n",
       "      <th>4</th>\n",
       "      <td>AS10248:AS-ALL</td>\n",
       "      <td>Blue Ridge Bankshares, Inc.</td>\n",
       "      <td>AS10248, AS-CONE</td>\n",
       "      <td>MNT-BRB-41</td>\n",
       "      <td></td>\n",
       "      <td>ARIN</td>\n",
       "      <td>2</td>\n",
       "    </tr>\n",
       "    <tr>\n",
       "      <th>...</th>\n",
       "      <td>...</td>\n",
       "      <td>...</td>\n",
       "      <td>...</td>\n",
       "      <td>...</td>\n",
       "      <td>...</td>\n",
       "      <td>...</td>\n",
       "      <td>...</td>\n",
       "    </tr>\n",
       "    <tr>\n",
       "      <th>3628</th>\n",
       "      <td>AS-ZOOCE</td>\n",
       "      <td>Zooce</td>\n",
       "      <td>AS398307</td>\n",
       "      <td>MNT-UIS-72</td>\n",
       "      <td></td>\n",
       "      <td>ARIN</td>\n",
       "      <td>1</td>\n",
       "    </tr>\n",
       "    <tr>\n",
       "      <th>3629</th>\n",
       "      <td>AS-ZOOMINGWORK-LLC</td>\n",
       "      <td>PloxHost by ZoomingWork LLC.</td>\n",
       "      <td>AS31786, AS203458, AS26930, AS210691, AS137509...</td>\n",
       "      <td>MNT-ZL-92</td>\n",
       "      <td></td>\n",
       "      <td>ARIN</td>\n",
       "      <td>6</td>\n",
       "    </tr>\n",
       "    <tr>\n",
       "      <th>3630</th>\n",
       "      <td>AS-ZTVI</td>\n",
       "      <td>ZTVI - ForwardingPlane, LLC</td>\n",
       "      <td>AS19625</td>\n",
       "      <td>MNT-FL-727</td>\n",
       "      <td></td>\n",
       "      <td>ARIN</td>\n",
       "      <td>1</td>\n",
       "    </tr>\n",
       "    <tr>\n",
       "      <th>3631</th>\n",
       "      <td>WAVEFORM-CUSTOMERS</td>\n",
       "      <td>Waveform Technology LLC Customers</td>\n",
       "      <td>AS19383, AS11088, AS19197</td>\n",
       "      <td>MNT-WFRM</td>\n",
       "      <td>24-11-2010</td>\n",
       "      <td>ARIN</td>\n",
       "      <td>3</td>\n",
       "    </tr>\n",
       "    <tr>\n",
       "      <th>3632</th>\n",
       "      <td>waveform-upstreams</td>\n",
       "      <td>Waveform Technology LLC Upstreams</td>\n",
       "      <td>AS2828, AS3356, AS174</td>\n",
       "      <td>MNT-WFRM</td>\n",
       "      <td>24-11-2010</td>\n",
       "      <td>ARIN</td>\n",
       "      <td>3</td>\n",
       "    </tr>\n",
       "  </tbody>\n",
       "</table>\n",
       "<p>3633 rows × 7 columns</p>\n",
       "</div>"
      ]
     },
     "metadata": {},
     "output_type": "display_data"
    }
   ],
   "source": [
    "df_arin"
   ]
  },
  {
   "cell_type": "code",
   "execution_count": 42,
   "metadata": {
    "datalore": {
     "hide_input_from_viewers": false,
     "hide_output_from_viewers": false,
     "node_id": "1IREDuAdoCxghp2rfDL7mH",
     "report_properties": {
      "relativeY": 0,
      "rowId": "I6dudK2epuIBw7Fe9yqIMj"
     },
     "type": "CODE"
    }
   },
   "outputs": [],
   "source": [
    "# LAPNIC DATAFRAME\n",
    "# The code is exactly the same as RIPE NCC, therefore no comments will be written for this DF\n",
    "filename = '/data/notebook_files/lacnic_as-set_db.txt'\n",
    "\n",
    "with open(filename,'r', encoding=\"ISO-8859-1\",) as file:\n",
    "    lines = file.readlines()\n",
    "\n",
    "# Initialize the data dictionary\n",
    "data = {'as-set': [], 'descr': [], 'members': [], 'mnt-by': [], 'last-modified': [], 'source': []}\n",
    "current_as_set = current_descr = current_members = current_mnt_by = current_last_modified = current_source = ''\n",
    "\n",
    "# Iterates through each line\n",
    "for line in lines:\n",
    "    if line.startswith('as-set:'):\n",
    "        if current_as_set:\n",
    "            data['as-set'].append(current_as_set)\n",
    "            data['descr'].append(current_descr)\n",
    "            data['members'].append(current_members.rstrip(', '))\n",
    "            data['mnt-by'].append(current_mnt_by)\n",
    "            data['last-modified'].append(current_last_modified)\n",
    "            data['source'].append(current_source)\n",
    "        split_line = line.strip().split(':', 1)\n",
    "        current_as_set = split_line[1].strip() if len(split_line) > 1 else ''\n",
    "        current_descr = current_members = current_mnt_by = current_last_modified = current_source = ''\n",
    "    elif line.startswith('descr:'):\n",
    "        split_line = line.strip().split(':', 1)\n",
    "        current_descr = split_line[1].strip() if len(split_line) > 1 else ''\n",
    "    elif line.startswith('members:'):\n",
    "        new_members = re.findall('AS[\\w-]+', line)\n",
    "        if new_members:\n",
    "            current_members += ', '.join(new_members) + ', '\n",
    "    elif line.startswith('mnt-by:'):\n",
    "        split_line = line.strip().split(':', 1)\n",
    "        current_mnt_by = split_line[1].strip() if len(split_line) > 1 else ''\n",
    "    # also field overloading will removed, and e-mail will be dropped    \n",
    "    elif 'changed:' in line:\n",
    "        split_line = line.split('changed:')[1].strip().split(' ')\n",
    "        if len(split_line) > 1:  # if there is email and date\n",
    "            date_str = split_line[1].strip()  # get the date string and strip any leading or trailing spaces\n",
    "            if date_str and len(date_str) == 8:  # check if date_str is not empty and if it's the correct length\n",
    "                    date_obj = datetime.strptime(date_str, '%Y%m%d')  # convert to datetime object\n",
    "                    current_last_modified = date_obj.strftime('%d-%m-%Y')  # convert to the desired format\n",
    "    elif line.startswith('source:'):\n",
    "        split_line = line.strip().split(':', 1)\n",
    "        current_source = split_line[1].strip() if len(split_line) > 1 else ''\n",
    "\n",
    "# Add the last entry\n",
    "data['as-set'].append(current_as_set)\n",
    "data['descr'].append(current_descr)\n",
    "data['members'].append(current_members.rstrip(', '))\n",
    "data['mnt-by'].append(current_mnt_by)\n",
    "data['last-modified'].append(current_last_modified)\n",
    "data['source'].append(current_source)\n",
    "\n",
    "# Convert to a pandas DataFrame\n",
    "df_lapnic = pd.DataFrame(data)\n",
    "\n",
    "# Function to count AS members\n",
    "def count_as_members(members_str):\n",
    "    if not members_str:\n",
    "        return 0\n",
    "    members_list = members_str.split(', ')\n",
    "    return len(members_list)\n",
    "\n",
    "# Add a new 'AS_count' column\n",
    "df_lapnic['AS_count'] = df_lapnic['members'].apply(count_as_members)\n",
    "\n",
    "# Strip leading/trailing whitespaces from 'as-set' values\n",
    "df_lapnic['as-set'] = df_lapnic['as-set'].str.strip()"
   ]
  },
  {
   "cell_type": "code",
   "execution_count": 43,
   "metadata": {
    "datalore": {
     "hide_input_from_viewers": false,
     "hide_output_from_viewers": false,
     "node_id": "Wdw1W3r1r8RsBuYHWJ2fGi",
     "report_properties": {
      "relativeY": 0,
      "rowId": "5oVUgmbTHpuAT8g7egx4ZD"
     },
     "type": "CODE"
    }
   },
   "outputs": [
    {
     "data": {
      "text/plain": [
       "(1149, 7)"
      ]
     },
     "metadata": {},
     "output_type": "display_data"
    }
   ],
   "source": [
    "df_lapnic.shape"
   ]
  },
  {
   "cell_type": "code",
   "execution_count": 44,
   "metadata": {
    "datalore": {
     "hide_input_from_viewers": false,
     "hide_output_from_viewers": false,
     "node_id": "JRXfX0YnX56xd6a1DNHmwl",
     "report_properties": {
      "rowId": "aP6MVhKCLcWXi0UOarTS5E"
     },
     "type": "CODE"
    }
   },
   "outputs": [
    {
     "data": {
      "text/html": [
       "<div>\n",
       "<style scoped>\n",
       "    .dataframe tbody tr th:only-of-type {\n",
       "        vertical-align: middle;\n",
       "    }\n",
       "\n",
       "    .dataframe tbody tr th {\n",
       "        vertical-align: top;\n",
       "    }\n",
       "\n",
       "    .dataframe thead th {\n",
       "        text-align: right;\n",
       "    }\n",
       "</style>\n",
       "<table border=\"1\" class=\"dataframe\">\n",
       "  <thead>\n",
       "    <tr style=\"text-align: right;\">\n",
       "      <th></th>\n",
       "      <th>as-set</th>\n",
       "      <th>descr</th>\n",
       "      <th>members</th>\n",
       "      <th>mnt-by</th>\n",
       "      <th>last-modified</th>\n",
       "      <th>source</th>\n",
       "      <th>AS_count</th>\n",
       "    </tr>\n",
       "  </thead>\n",
       "  <tbody>\n",
       "    <tr>\n",
       "      <th>0</th>\n",
       "      <td>AS4270:AS-UNIS1</td>\n",
       "      <td>Red de Interconexion Universitaria</td>\n",
       "      <td>AS3449, AS5692, AS14845, AS27770, AS27790, AS2...</td>\n",
       "      <td>MNT-AR-RIUN-LACNIC</td>\n",
       "      <td>03-03-2020</td>\n",
       "      <td>LACNIC</td>\n",
       "      <td>13</td>\n",
       "    </tr>\n",
       "    <tr>\n",
       "      <th>1</th>\n",
       "      <td>AS4270:AS-LACNIC</td>\n",
       "      <td>Red de Interconexion Universitaria</td>\n",
       "      <td>AS52224</td>\n",
       "      <td>MNT-AR-RIUN-LACNIC</td>\n",
       "      <td>03-03-2020</td>\n",
       "      <td>LACNIC</td>\n",
       "      <td>1</td>\n",
       "    </tr>\n",
       "    <tr>\n",
       "      <th>2</th>\n",
       "      <td>AS16814:AS-IPLAN</td>\n",
       "      <td>NSS S.A.</td>\n",
       "      <td>AS16814, AS16814, AS-CUSTOMERS</td>\n",
       "      <td>MNT-AR-NSSA-LACNIC</td>\n",
       "      <td>20-10-2021</td>\n",
       "      <td>LACNIC</td>\n",
       "      <td>3</td>\n",
       "    </tr>\n",
       "    <tr>\n",
       "      <th>3</th>\n",
       "      <td>AS52332:AS-BHB</td>\n",
       "      <td>CABASE Camara Arg de Base de Datos y Serv en L...</td>\n",
       "      <td>AS52332</td>\n",
       "      <td>MNT-AR-CCAB-LACNIC</td>\n",
       "      <td>02-04-2020</td>\n",
       "      <td>LACNIC</td>\n",
       "      <td>1</td>\n",
       "    </tr>\n",
       "    <tr>\n",
       "      <th>4</th>\n",
       "      <td>AS52370:AS-DLC</td>\n",
       "      <td>CABASE Camara Arg de Base de Datos y Serv en L...</td>\n",
       "      <td>AS52370</td>\n",
       "      <td>MNT-AR-CCAB-LACNIC</td>\n",
       "      <td>02-04-2020</td>\n",
       "      <td>LACNIC</td>\n",
       "      <td>1</td>\n",
       "    </tr>\n",
       "    <tr>\n",
       "      <th>...</th>\n",
       "      <td>...</td>\n",
       "      <td>...</td>\n",
       "      <td>...</td>\n",
       "      <td>...</td>\n",
       "      <td>...</td>\n",
       "      <td>...</td>\n",
       "      <td>...</td>\n",
       "    </tr>\n",
       "    <tr>\n",
       "      <th>1144</th>\n",
       "      <td>AS266769:AS-GOOGLE</td>\n",
       "      <td>ISPCOM S.A.</td>\n",
       "      <td>AS15169</td>\n",
       "      <td>MNT-AR-ISSA17-LACNIC</td>\n",
       "      <td>01-06-2023</td>\n",
       "      <td>LACNIC</td>\n",
       "      <td>1</td>\n",
       "    </tr>\n",
       "    <tr>\n",
       "      <th>1145</th>\n",
       "      <td>AS269905:AS-CUSTOMERS</td>\n",
       "      <td>COOPERATIVA COLONIZADORA MULTIACTIVA FERNHEIM ...</td>\n",
       "      <td>AS269905</td>\n",
       "      <td>MNT-PY-CFLT-LACNIC</td>\n",
       "      <td>02-06-2023</td>\n",
       "      <td>LACNIC</td>\n",
       "      <td>1</td>\n",
       "    </tr>\n",
       "    <tr>\n",
       "      <th>1146</th>\n",
       "      <td>AS266769:AS-ISPCOM</td>\n",
       "      <td>ISPCOM S.A.</td>\n",
       "      <td>AS266769, AS266769, AS-Silica, AS266769, AS-TE...</td>\n",
       "      <td>MNT-AR-ISSA17-LACNIC</td>\n",
       "      <td>01-06-2023</td>\n",
       "      <td>LACNIC</td>\n",
       "      <td>9</td>\n",
       "    </tr>\n",
       "    <tr>\n",
       "      <th>1147</th>\n",
       "      <td>AS265864:AS-CLIENTES</td>\n",
       "      <td>LINK Telecom S.A.</td>\n",
       "      <td>AS262183</td>\n",
       "      <td>MNT-PY-LTSA-LACNIC</td>\n",
       "      <td>01-06-2023</td>\n",
       "      <td>LACNIC</td>\n",
       "      <td>1</td>\n",
       "    </tr>\n",
       "    <tr>\n",
       "      <th>1148</th>\n",
       "      <td>AS262183:AS-CLIENTES</td>\n",
       "      <td>MULTI LINK S.A.</td>\n",
       "      <td>AS265864</td>\n",
       "      <td>MNT-PY-MSSA1-LACNIC</td>\n",
       "      <td>01-06-2023</td>\n",
       "      <td>LACNIC</td>\n",
       "      <td>1</td>\n",
       "    </tr>\n",
       "  </tbody>\n",
       "</table>\n",
       "<p>1149 rows × 7 columns</p>\n",
       "</div>"
      ]
     },
     "metadata": {},
     "output_type": "display_data"
    }
   ],
   "source": [
    "df_lapnic"
   ]
  },
  {
   "cell_type": "code",
   "execution_count": 45,
   "metadata": {
    "datalore": {
     "hide_input_from_viewers": false,
     "hide_output_from_viewers": false,
     "node_id": "zh6eAagTJFfNpFme1dIM5s",
     "report_properties": {
      "relativeY": 0,
      "rowId": "vymoDH3Db8FymDsmYh27LK"
     },
     "type": "CODE"
    }
   },
   "outputs": [],
   "source": [
    "# AFRINIC DATAFRAME\n",
    "# The code is exactly the same as RIPE NCC, therefore no comments will be written for this DF\n",
    "filename = '/data/notebook_files/afrinic_as-set_db.txt'\n",
    "\n",
    "with open(filename,'r', encoding=\"ISO-8859-1\",) as file:\n",
    "    lines = file.readlines()\n",
    "\n",
    "# Initialize the data dictionary\n",
    "data = {'as-set': [], 'descr': [], 'members': [], 'mnt-by': [], 'last-modified': [], 'source': []}\n",
    "current_as_set = current_descr = current_members = current_mnt_by = current_last_modified = current_source = ''\n",
    "\n",
    "# Iterates through each line\n",
    "for line in lines:\n",
    "    if line.startswith('as-set:'):\n",
    "        if current_as_set:\n",
    "            data['as-set'].append(current_as_set)\n",
    "            data['descr'].append(current_descr)\n",
    "            data['members'].append(current_members.rstrip(', '))\n",
    "            data['mnt-by'].append(current_mnt_by)\n",
    "            data['last-modified'].append(current_last_modified)\n",
    "            data['source'].append(current_source)\n",
    "        split_line = line.strip().split(':', 1)\n",
    "        current_as_set = split_line[1].strip() if len(split_line) > 1 else ''\n",
    "        current_descr = current_members = current_mnt_by = current_last_modified = current_source = ''\n",
    "    elif line.startswith('descr:'):\n",
    "        split_line = line.strip().split(':', 1)\n",
    "        current_descr = split_line[1].strip() if len(split_line) > 1 else ''\n",
    "    elif line.startswith('members:'):\n",
    "        new_members = re.findall('AS[\\w-]+', line)\n",
    "        if new_members:\n",
    "            current_members += ', '.join(new_members) + ', '\n",
    "    elif line.startswith('mnt-by:'):\n",
    "        split_line = line.strip().split(':', 1)\n",
    "        current_mnt_by = split_line[1].strip() if len(split_line) > 1 else ''\n",
    "    # also field overloading will removed, and e-mail will be dropped\n",
    "    elif 'changed:' in line:\n",
    "        split_line = line.split('changed:')[1].strip().split(' ')\n",
    "        if len(split_line) > 1:  # if there is email and date\n",
    "            date_str = split_line[1].strip()  # get the date string and strip any leading or trailing spaces\n",
    "            if date_str and len(date_str) == 8:  # check if date_str is not empty and if it's the correct length\n",
    "                    date_obj = datetime.strptime(date_str, '%Y%m%d')  # convert to datetime object\n",
    "                    current_last_modified = date_obj.strftime('%d-%m-%Y')  # convert to the desired format\n",
    "    elif line.startswith('source:'):\n",
    "        split_line = line.strip().split(':', 1)\n",
    "        current_source = split_line[1].strip() if len(split_line) > 1 else ''\n",
    "\n",
    "# Add the last entry\n",
    "data['as-set'].append(current_as_set)\n",
    "data['descr'].append(current_descr)\n",
    "data['members'].append(current_members.rstrip(', '))\n",
    "data['mnt-by'].append(current_mnt_by)\n",
    "data['last-modified'].append(current_last_modified)\n",
    "data['source'].append(current_source)\n",
    "\n",
    "# Convert to a pandas DataFrame\n",
    "df_afrinic = pd.DataFrame(data)\n",
    "\n",
    "# Function to count AS members\n",
    "def count_as_members(members_str):\n",
    "    if not members_str:\n",
    "        return 0\n",
    "    members_list = members_str.split(', ')\n",
    "    return len(members_list)\n",
    "\n",
    "# Add a new 'AS_count' column\n",
    "df_afrinic['AS_count'] = df_afrinic['members'].apply(count_as_members)\n",
    "\n",
    "# Strip leading/trailing whitespaces from 'as-set' values\n",
    "df_afrinic['as-set'] = df_afrinic['as-set'].str.strip()"
   ]
  },
  {
   "cell_type": "code",
   "execution_count": 46,
   "metadata": {
    "datalore": {
     "hide_input_from_viewers": false,
     "hide_output_from_viewers": false,
     "node_id": "btKkPFUIJpox0YCeMdypUn",
     "report_properties": {
      "rowId": "aP6MVhKCLcWXi0UOarTS5E"
     },
     "type": "CODE"
    }
   },
   "outputs": [
    {
     "data": {
      "text/plain": [
       "(1008, 7)"
      ]
     },
     "metadata": {},
     "output_type": "display_data"
    }
   ],
   "source": [
    "df_afrinic.shape"
   ]
  },
  {
   "cell_type": "code",
   "execution_count": 47,
   "metadata": {
    "datalore": {
     "hide_input_from_viewers": false,
     "hide_output_from_viewers": false,
     "node_id": "McybvtW7ZQlkYdBVIlXBPZ",
     "report_properties": {
      "rowId": "aP6MVhKCLcWXi0UOarTS5E"
     },
     "type": "CODE"
    }
   },
   "outputs": [
    {
     "data": {
      "text/html": [
       "<div>\n",
       "<style scoped>\n",
       "    .dataframe tbody tr th:only-of-type {\n",
       "        vertical-align: middle;\n",
       "    }\n",
       "\n",
       "    .dataframe tbody tr th {\n",
       "        vertical-align: top;\n",
       "    }\n",
       "\n",
       "    .dataframe thead th {\n",
       "        text-align: right;\n",
       "    }\n",
       "</style>\n",
       "<table border=\"1\" class=\"dataframe\">\n",
       "  <thead>\n",
       "    <tr style=\"text-align: right;\">\n",
       "      <th></th>\n",
       "      <th>as-set</th>\n",
       "      <th>descr</th>\n",
       "      <th>members</th>\n",
       "      <th>mnt-by</th>\n",
       "      <th>last-modified</th>\n",
       "      <th>source</th>\n",
       "      <th>AS_count</th>\n",
       "    </tr>\n",
       "  </thead>\n",
       "  <tbody>\n",
       "    <tr>\n",
       "      <th>0</th>\n",
       "      <td>AS-RAYA</td>\n",
       "      <td>Vodafone Data customers announced to Transit P...</td>\n",
       "      <td>AS15804, AS24835, AS25362, AS20484, AS2561, AS...</td>\n",
       "      <td>RAYA-MNT</td>\n",
       "      <td>29-09-2022</td>\n",
       "      <td>AFRINIC</td>\n",
       "      <td>59</td>\n",
       "    </tr>\n",
       "    <tr>\n",
       "      <th>1</th>\n",
       "      <td>AS-IKATELNET</td>\n",
       "      <td>IKATEL SA / MALIAN GLOBAL SERVICE PROVIDER</td>\n",
       "      <td>AS30985, AS36864</td>\n",
       "      <td>MNT-IKATEL</td>\n",
       "      <td>26-08-2005</td>\n",
       "      <td>AFRINIC</td>\n",
       "      <td>2</td>\n",
       "    </tr>\n",
       "    <tr>\n",
       "      <th>2</th>\n",
       "      <td>as-jambonet</td>\n",
       "      <td>Telkom Kenya Jambonet network</td>\n",
       "      <td></td>\n",
       "      <td>KPTC-MNT</td>\n",
       "      <td>12-11-2018</td>\n",
       "      <td>AFRINIC</td>\n",
       "      <td>0</td>\n",
       "    </tr>\n",
       "    <tr>\n",
       "      <th>3</th>\n",
       "      <td>AS33788:AS-Customer1</td>\n",
       "      <td>peer for AS33788</td>\n",
       "      <td>AS33788, AS36972</td>\n",
       "      <td>KANARTEL-MNT</td>\n",
       "      <td>11-09-2007</td>\n",
       "      <td>AFRINIC</td>\n",
       "      <td>2</td>\n",
       "    </tr>\n",
       "    <tr>\n",
       "      <th>4</th>\n",
       "      <td>AS33788:AS-Customer2</td>\n",
       "      <td>peer for AS33788</td>\n",
       "      <td>AS33788, AS36998</td>\n",
       "      <td>KANARTEL-MNT</td>\n",
       "      <td>07-02-2008</td>\n",
       "      <td>AFRINIC</td>\n",
       "      <td>2</td>\n",
       "    </tr>\n",
       "    <tr>\n",
       "      <th>...</th>\n",
       "      <td>...</td>\n",
       "      <td>...</td>\n",
       "      <td>...</td>\n",
       "      <td>...</td>\n",
       "      <td>...</td>\n",
       "      <td>...</td>\n",
       "      <td>...</td>\n",
       "    </tr>\n",
       "    <tr>\n",
       "      <th>1003</th>\n",
       "      <td>AS-3576</td>\n",
       "      <td>Accenture JHB</td>\n",
       "      <td></td>\n",
       "      <td>ACCELERIT-MNT</td>\n",
       "      <td>31-05-2023</td>\n",
       "      <td>AFRINIC</td>\n",
       "      <td>0</td>\n",
       "    </tr>\n",
       "    <tr>\n",
       "      <th>1004</th>\n",
       "      <td>AS-SET-AFRINET</td>\n",
       "      <td>Kinshasa Afrinet sa AS-SET</td>\n",
       "      <td>AS37415</td>\n",
       "      <td>AFRINET-MNT</td>\n",
       "      <td>31-05-2023</td>\n",
       "      <td>AFRINIC</td>\n",
       "      <td>1</td>\n",
       "    </tr>\n",
       "    <tr>\n",
       "      <th>1005</th>\n",
       "      <td>AS-328700</td>\n",
       "      <td>TISPA-CDN</td>\n",
       "      <td>AS328700, AS20940</td>\n",
       "      <td>FH1MD5-MNT</td>\n",
       "      <td>31-05-2023</td>\n",
       "      <td>AFRINIC</td>\n",
       "      <td>2</td>\n",
       "    </tr>\n",
       "    <tr>\n",
       "      <th>1006</th>\n",
       "      <td>as-329236</td>\n",
       "      <td>Teltwine Networks Limited</td>\n",
       "      <td></td>\n",
       "      <td>TNL5-MNT</td>\n",
       "      <td>01-06-2023</td>\n",
       "      <td>AFRINIC</td>\n",
       "      <td>0</td>\n",
       "    </tr>\n",
       "    <tr>\n",
       "      <th>1007</th>\n",
       "      <td>as-mtn</td>\n",
       "      <td>For MTN as-set</td>\n",
       "      <td></td>\n",
       "      <td>MTNNIGERA1-MNT</td>\n",
       "      <td>01-06-2023</td>\n",
       "      <td>AFRINIC</td>\n",
       "      <td>0</td>\n",
       "    </tr>\n",
       "  </tbody>\n",
       "</table>\n",
       "<p>1008 rows × 7 columns</p>\n",
       "</div>"
      ]
     },
     "metadata": {},
     "output_type": "display_data"
    }
   ],
   "source": [
    "df_afrinic"
   ]
  },
  {
   "cell_type": "code",
   "execution_count": 48,
   "metadata": {
    "datalore": {
     "hide_input_from_viewers": true,
     "hide_output_from_viewers": true,
     "node_id": "fRTPpXTNULFFJgOhWyM0SI",
     "type": "CODE"
    }
   },
   "outputs": [],
   "source": [
    "# All dataframes will be combined to a single dataframe\n",
    "df = pd.concat([df_ripe, df_apnic, df_arin, df_lapnic, df_afrinic]).reset_index(drop=True)"
   ]
  },
  {
   "cell_type": "code",
   "execution_count": 49,
   "metadata": {
    "datalore": {
     "hide_input_from_viewers": false,
     "hide_output_from_viewers": false,
     "node_id": "tnPewM0F9fS5VMZlECtOOP",
     "report_properties": {
      "relativeY": 0,
      "rowId": "kZai02YFb17m9K7NMC4CL9"
     },
     "type": "CODE"
    }
   },
   "outputs": [
    {
     "data": {
      "text/plain": [
       "(33965, 7)"
      ]
     },
     "metadata": {},
     "output_type": "display_data"
    }
   ],
   "source": [
    "df.shape"
   ]
  },
  {
   "cell_type": "code",
   "execution_count": 50,
   "metadata": {
    "datalore": {
     "hide_input_from_viewers": false,
     "hide_output_from_viewers": false,
     "node_id": "Nf5La8VCcTWTbOzkTqZkyV",
     "report_properties": {
      "rowId": "aP6MVhKCLcWXi0UOarTS5E"
     },
     "type": "CODE"
    }
   },
   "outputs": [
    {
     "data": {
      "text/plain": [
       "<bound method NDFrame.describe of                   as-set                                              descr  \\\n",
       "0             AS-RESTENA    Educational and research network for Luxembourg   \n",
       "1        AS-TMPEBONECWIX                       CWIX ASes announced to EBONE   \n",
       "2      AS-DFNFROMCOLOGNE  ASs accepted by DFN from the University of Col...   \n",
       "3          AS-NETMATTERS                                      NetMatters UK   \n",
       "4             AS-UDNGRAZ                                  UDN Graz AS Macro   \n",
       "...                  ...                                                ...   \n",
       "33960            AS-3576                                      Accenture JHB   \n",
       "33961     AS-SET-AFRINET                         Kinshasa Afrinet sa AS-SET   \n",
       "33962          AS-328700                                          TISPA-CDN   \n",
       "33963          as-329236                          Teltwine Networks Limited   \n",
       "33964             as-mtn                                     For MTN as-set   \n",
       "\n",
       "                                                 members          mnt-by  \\\n",
       "0               AS2602, AS42909, AS51966, AS-LXP, AS-VDL      AS2602-MNT   \n",
       "1      AS3727, AS4445, AS4610, AS4624, AS4637, AS4654...       EBONE-MNT   \n",
       "2                                         AS5520, AS6733         DFN-MNT   \n",
       "3                                         AS6765, AS3344      AS8407-MNT   \n",
       "4                 AS1113, AS1114, AS1118, AS2604, AS2036  ACONET-LIR-MNT   \n",
       "...                                                  ...             ...   \n",
       "33960                                                      ACCELERIT-MNT   \n",
       "33961                                            AS37415     AFRINET-MNT   \n",
       "33962                                  AS328700, AS20940      FH1MD5-MNT   \n",
       "33963                                                           TNL5-MNT   \n",
       "33964                                                     MTNNIGERA1-MNT   \n",
       "\n",
       "      last-modified   source  AS_count  \n",
       "0        08-09-2022     RIPE         5  \n",
       "1        21-09-2001     RIPE        24  \n",
       "2        12-04-2010     RIPE         2  \n",
       "3        21-09-2001     RIPE         2  \n",
       "4        05-04-2017     RIPE         5  \n",
       "...             ...      ...       ...  \n",
       "33960    31-05-2023  AFRINIC         0  \n",
       "33961    31-05-2023  AFRINIC         1  \n",
       "33962    31-05-2023  AFRINIC         2  \n",
       "33963    01-06-2023  AFRINIC         0  \n",
       "33964    01-06-2023  AFRINIC         0  \n",
       "\n",
       "[33965 rows x 7 columns]>"
      ]
     },
     "metadata": {},
     "output_type": "display_data"
    }
   ],
   "source": [
    "#The dataframe will be described here for analysis\n",
    "df.describe"
   ]
  },
  {
   "cell_type": "code",
   "execution_count": 51,
   "metadata": {
    "datalore": {
     "hide_input_from_viewers": false,
     "hide_output_from_viewers": false,
     "node_id": "10jrwxyJaD5lIDp7MNHZfC",
     "report_properties": {
      "relativeY": 0,
      "rowId": "JrXgM6Gut0xjdI4cC1vH57"
     },
     "type": "CODE"
    }
   },
   "outputs": [],
   "source": [
    "# Find the instances with no members, i.e. empty\n",
    "no_members = df[df['members'].str.len() == 0]"
   ]
  },
  {
   "cell_type": "code",
   "execution_count": 52,
   "metadata": {
    "datalore": {
     "hide_input_from_viewers": false,
     "hide_output_from_viewers": false,
     "node_id": "qGRWdQHfMnzwc7t4c6K8aU",
     "report_properties": {
      "relativeY": 0,
      "rowId": "AjnxEpAmQKEKh5s3hSQXvh"
     },
     "type": "CODE"
    }
   },
   "outputs": [
    {
     "data": {
      "text/html": [
       "<div>\n",
       "<style scoped>\n",
       "    .dataframe tbody tr th:only-of-type {\n",
       "        vertical-align: middle;\n",
       "    }\n",
       "\n",
       "    .dataframe tbody tr th {\n",
       "        vertical-align: top;\n",
       "    }\n",
       "\n",
       "    .dataframe thead th {\n",
       "        text-align: right;\n",
       "    }\n",
       "</style>\n",
       "<table border=\"1\" class=\"dataframe\">\n",
       "  <thead>\n",
       "    <tr style=\"text-align: right;\">\n",
       "      <th></th>\n",
       "      <th>as-set</th>\n",
       "      <th>descr</th>\n",
       "      <th>members</th>\n",
       "      <th>mnt-by</th>\n",
       "      <th>last-modified</th>\n",
       "      <th>source</th>\n",
       "      <th>AS_count</th>\n",
       "    </tr>\n",
       "  </thead>\n",
       "  <tbody>\n",
       "    <tr>\n",
       "      <th>275</th>\n",
       "      <td>as-LevelThreeEU</td>\n",
       "      <td>European Level3 Macro</td>\n",
       "      <td></td>\n",
       "      <td>LEVEL3-MNT</td>\n",
       "      <td>01-05-2002</td>\n",
       "      <td>RIPE</td>\n",
       "      <td>0</td>\n",
       "    </tr>\n",
       "    <tr>\n",
       "      <th>282</th>\n",
       "      <td>AS-ISEUROPE</td>\n",
       "      <td>old macro, see AS4589 and AS-EASYNET for curre...</td>\n",
       "      <td></td>\n",
       "      <td>EASYNET-DE-MNT</td>\n",
       "      <td>16-05-2003</td>\n",
       "      <td>RIPE</td>\n",
       "      <td>0</td>\n",
       "    </tr>\n",
       "    <tr>\n",
       "      <th>350</th>\n",
       "      <td>AS-CASTEL</td>\n",
       "      <td>Essent Kabelcom Internet AS Macro</td>\n",
       "      <td></td>\n",
       "      <td>CASTEL-MNT</td>\n",
       "      <td>06-12-2006</td>\n",
       "      <td>RIPE</td>\n",
       "      <td>0</td>\n",
       "    </tr>\n",
       "    <tr>\n",
       "      <th>382</th>\n",
       "      <td>AS-SILVERCOM</td>\n",
       "      <td>ASes exported by SILVERCOM to the world</td>\n",
       "      <td></td>\n",
       "      <td>KIEV-PAGE-MNT</td>\n",
       "      <td>16-10-2009</td>\n",
       "      <td>RIPE</td>\n",
       "      <td>0</td>\n",
       "    </tr>\n",
       "    <tr>\n",
       "      <th>479</th>\n",
       "      <td>AS-SUNRISE</td>\n",
       "      <td>sunrise / TDC Switzerland AG</td>\n",
       "      <td></td>\n",
       "      <td>AS6730-MNT</td>\n",
       "      <td>11-01-2002</td>\n",
       "      <td>RIPE</td>\n",
       "      <td>0</td>\n",
       "    </tr>\n",
       "    <tr>\n",
       "      <th>...</th>\n",
       "      <td>...</td>\n",
       "      <td>...</td>\n",
       "      <td>...</td>\n",
       "      <td>...</td>\n",
       "      <td>...</td>\n",
       "      <td>...</td>\n",
       "      <td>...</td>\n",
       "    </tr>\n",
       "    <tr>\n",
       "      <th>33950</th>\n",
       "      <td>AS-AMS-IX-LAG-RS-SETS-V6</td>\n",
       "      <td>AMS-IX LAG route server (37783) IPv6 announcem...</td>\n",
       "      <td></td>\n",
       "      <td>AFRINIC-AMSIX-MNT</td>\n",
       "      <td>15-05-2023</td>\n",
       "      <td>AFRINIC</td>\n",
       "      <td>0</td>\n",
       "    </tr>\n",
       "    <tr>\n",
       "      <th>33955</th>\n",
       "      <td>AS-SET-POWERNET</td>\n",
       "      <td>POWERNET AS SET</td>\n",
       "      <td></td>\n",
       "      <td>POWERNET-LIBERIA-MNT</td>\n",
       "      <td>24-05-2023</td>\n",
       "      <td>AFRINIC</td>\n",
       "      <td>0</td>\n",
       "    </tr>\n",
       "    <tr>\n",
       "      <th>33960</th>\n",
       "      <td>AS-3576</td>\n",
       "      <td>Accenture JHB</td>\n",
       "      <td></td>\n",
       "      <td>ACCELERIT-MNT</td>\n",
       "      <td>31-05-2023</td>\n",
       "      <td>AFRINIC</td>\n",
       "      <td>0</td>\n",
       "    </tr>\n",
       "    <tr>\n",
       "      <th>33963</th>\n",
       "      <td>as-329236</td>\n",
       "      <td>Teltwine Networks Limited</td>\n",
       "      <td></td>\n",
       "      <td>TNL5-MNT</td>\n",
       "      <td>01-06-2023</td>\n",
       "      <td>AFRINIC</td>\n",
       "      <td>0</td>\n",
       "    </tr>\n",
       "    <tr>\n",
       "      <th>33964</th>\n",
       "      <td>as-mtn</td>\n",
       "      <td>For MTN as-set</td>\n",
       "      <td></td>\n",
       "      <td>MTNNIGERA1-MNT</td>\n",
       "      <td>01-06-2023</td>\n",
       "      <td>AFRINIC</td>\n",
       "      <td>0</td>\n",
       "    </tr>\n",
       "  </tbody>\n",
       "</table>\n",
       "<p>3133 rows × 7 columns</p>\n",
       "</div>"
      ]
     },
     "metadata": {},
     "output_type": "display_data"
    }
   ],
   "source": [
    "# Here the list of empty members will be printed\n",
    "no_members"
   ]
  },
  {
   "cell_type": "code",
   "execution_count": 53,
   "metadata": {
    "datalore": {
     "hide_input_from_viewers": false,
     "hide_output_from_viewers": false,
     "node_id": "L07Rn5lEcPoeflCQutxyN6",
     "report_properties": {
      "rowId": "aP6MVhKCLcWXi0UOarTS5E"
     },
     "type": "CODE"
    }
   },
   "outputs": [],
   "source": [
    "# As it is visible, 3133 as-set has no members"
   ]
  },
  {
   "cell_type": "code",
   "execution_count": 54,
   "metadata": {
    "datalore": {
     "hide_input_from_viewers": false,
     "hide_output_from_viewers": false,
     "node_id": "OegznrfkPYjyiMLuHxpNht",
     "report_properties": {
      "relativeY": 0,
      "rowId": "7Eie7wwOZsDbkdrJI8RO6F"
     },
     "type": "CODE"
    }
   },
   "outputs": [
    {
     "name": "stdout",
     "output_type": "stream",
     "text": [
      "Biggest AS-SET in terms of AS_count:\n",
      "as-set                                            AS-UBNIX-MEMBERS\n",
      "descr            Ukrainian Backbone Networks Internet Exchange ...\n",
      "members          AS35336, AS398112, AS44884, AS138889, AS35549,...\n",
      "mnt-by                                                   MNT-UBNIX\n",
      "last-modified                                           02-06-2023\n",
      "source                                                        RIPE\n",
      "AS_count                                                     19978\n",
      "Name: 12157, dtype: object\n"
     ]
    }
   ],
   "source": [
    "# The biggest as-set will be identified here\n",
    "max_as_set = df.loc[df['AS_count'].idxmax()]\n",
    "print(\"Biggest AS-SET in terms of AS_count:\")\n",
    "print(max_as_set)"
   ]
  },
  {
   "cell_type": "code",
   "execution_count": 55,
   "metadata": {
    "datalore": {
     "hide_input_from_viewers": true,
     "hide_output_from_viewers": true,
     "node_id": "PFj679Zco5ESoGBRzVKy6T",
     "type": "CODE"
    }
   },
   "outputs": [
    {
     "name": "stdout",
     "output_type": "stream",
     "text": [
      "Empty DataFrame\n",
      "Columns: [as-set, descr, members, mnt-by, last-modified, source, AS_count]\n",
      "Index: []\n"
     ]
    }
   ],
   "source": [
    "# Check for duplicates\n",
    "duplicates = df.duplicated()\n",
    "\n",
    "# Print the duplicates\n",
    "print(df[duplicates])"
   ]
  },
  {
   "cell_type": "code",
   "execution_count": 56,
   "metadata": {
    "datalore": {
     "hide_input_from_viewers": false,
     "hide_output_from_viewers": false,
     "node_id": "CfnYWQYZnCmfrcfcpzxhF9",
     "report_properties": {
      "rowId": "aP6MVhKCLcWXi0UOarTS5E"
     },
     "type": "CODE"
    }
   },
   "outputs": [],
   "source": [
    "# As it can be seen, the dataframe does not have dublicates"
   ]
  },
  {
   "cell_type": "code",
   "execution_count": 57,
   "metadata": {
    "datalore": {
     "hide_input_from_viewers": false,
     "hide_output_from_viewers": false,
     "node_id": "LDxCrYceb8bfnIzvGVXhgx",
     "report_properties": {
      "relativeY": 0,
      "rowId": "ryyABXu4EurFnyOUmg48l9"
     },
     "type": "CODE"
    }
   },
   "outputs": [
    {
     "name": "stdout",
     "output_type": "stream",
     "text": [
      "Mean number of members:  12.638716325629325\n",
      "Median number of members:  2.0\n",
      "Standard deviation of members:  142.17666483772567\n",
      "Range of number of members:  19978\n"
     ]
    }
   ],
   "source": [
    "# Here, statistics will be calculated. To be more precise, we will determine the mean, median, standard deviation, and range of the number of members.mean = np.mean(df['AS_count'])\n",
    "# Calculate the statistics\n",
    "mean = np.mean(df['AS_count'])\n",
    "median = np.median(df['AS_count'])\n",
    "std = np.std(df['AS_count'])\n",
    "min_num = min(df['AS_count'])\n",
    "max_num = max(df['AS_count'])\n",
    "range_num = max_num - min_num\n",
    "\n",
    "# Print the results\n",
    "print(\"Mean number of members: \", mean)\n",
    "print(\"Median number of members: \", median)\n",
    "print(\"Standard deviation of members: \", std)\n",
    "print(\"Range of number of members: \", range_num)"
   ]
  },
  {
   "cell_type": "code",
   "execution_count": 58,
   "metadata": {
    "datalore": {
     "hide_input_from_viewers": false,
     "hide_output_from_viewers": true,
     "node_id": "uCQT4XkKchCxFaTGy0YS4r",
     "report_properties": {
      "relativeY": 0,
      "rowId": "n5mmGrgVr9q5RAcSkWhegV"
     },
     "type": "CODE"
    }
   },
   "outputs": [],
   "source": [
    "# This function will calculate the 'cone' attribute\n",
    "def calculate_cone(as_set, df):\n",
    "    # This list will be used to keep track of AS-Sets that have been visited during the iterations. \n",
    "    visited = set()\n",
    "    # This list will be used to store the unique AS numbers found during the traversal.\n",
    "    ases = set()\n",
    "    # The queue will be used for the breadth-first search to iterate through AS-Sets\n",
    "    queue = [as_set]\n",
    "\n",
    "    while queue:\n",
    "        # This line pops the first element from the queue list and assigns it to the variable current. \n",
    "        current = queue.pop(0)\n",
    "        # This if statement checks if the current AS-Set (current) has not been visited yet \n",
    "        # and is present in the df['as-set'] column. \n",
    "        # If both conditions are true, it proceeds with further calculations.\n",
    "        if current not in visited and current in df['as-set'].values:\n",
    "            # AS-Set is marked as visited \n",
    "            visited.add(current)\n",
    "            # The 'members' value from the DF associated with the current AS-Set.\n",
    "            members_str = df.loc[df['as-set'] == current, 'members'].values[0]\n",
    "            # The 'members' value is split into a list of individual members\n",
    "            members = members_str.split(', ')\n",
    "            \n",
    "            #The code iterates through each member in the list and checks if it represents an AS number. \n",
    "            for member in members:\n",
    "                #If it is an AS number, it is added to the ases set. \n",
    "                if member.startswith(('AS', 'as')) and member[2:].isdigit():\n",
    "                    ases.add(member)\n",
    "                # If it is another AS-SET and has not been visited yet, it is added to the queue for further BFS traversal.\n",
    "                elif member not in visited: \n",
    "                    queue.append(member)\n",
    "    return ases\n",
    "# Here 'cone' attribute is calculated and applied to the dataframe\n",
    "df['cone'] = df['as-set'].apply(lambda as_set: len(calculate_cone(as_set, df)))"
   ]
  },
  {
   "cell_type": "code",
   "execution_count": 59,
   "metadata": {
    "datalore": {
     "hide_input_from_viewers": true,
     "hide_output_from_viewers": true,
     "node_id": "bh1eOvqlNtv1Ocl27qu7vf",
     "type": "CODE"
    }
   },
   "outputs": [],
   "source": [
    "# Save the dataframe\n",
    "df.to_csv('df_for.csv', index=False)"
   ]
  },
  {
   "cell_type": "code",
   "execution_count": 60,
   "metadata": {
    "datalore": {
     "hide_input_from_viewers": false,
     "hide_output_from_viewers": false,
     "node_id": "cal1zj9X7trGfCFlBwn473",
     "report_properties": {
      "relativeY": 0,
      "rowId": "OMJ5TOkWlYL1PMqr4lKO8H"
     },
     "type": "CODE"
    }
   },
   "outputs": [],
   "source": [
    "# drop instances with 'AS_Count' = 0\n",
    "df = df[df['AS_count'] != 0]\n",
    "\n",
    "# re-arrange the numbering\n",
    "df.reset_index(drop=True, inplace=True)"
   ]
  },
  {
   "cell_type": "code",
   "execution_count": 61,
   "metadata": {
    "datalore": {
     "hide_input_from_viewers": true,
     "hide_output_from_viewers": true,
     "node_id": "42swcnuNpEirALo8EDVoQh",
     "type": "CODE"
    }
   },
   "outputs": [],
   "source": [
    "# This part aims to create samples by dividing the data into quantiles based on the column and then selecting a number of samples \n",
    "# from each quantile. \n",
    "def quantile_sample(df, column, sample_size_per_quantile):\n",
    "    samples = []\n",
    "    quantiles = np.linspace(0, 1, 6)\n",
    "    for i in range(len(quantiles) - 1):\n",
    "        condition = (df[column] >= df[column].quantile(quantiles[i])) & \\\n",
    "                    (df[column] < df[column].quantile(quantiles[i + 1]))\n",
    "        samples_subset = df[condition]\n",
    "        if not samples_subset.empty:  # Check if samples_subset is not empty\n",
    "            samples.append(samples_subset.sample(n=min(sample_size_per_quantile, len(samples_subset)), replace=True))  \n",
    "    return pd.concat(samples)\n",
    "# This part creates samples by grouping the data based on the 'source' and then selecting a specified number of samples \n",
    "# from each source group.\n",
    "def source_sample(df, sample_size_per_source):\n",
    "    return df.groupby('source').apply(lambda x: x.sample(n=min(sample_size_per_source, len(x)), replace=True)).reset_index(drop=True)\n",
    "\n",
    "# Desired total samples\n",
    "total_samples = 2368\n",
    "\n",
    "# The oversampling factor used to increase the number of samples.\n",
    "oversample_factor = 2\n",
    "\n",
    "# Calculate samples per column with oversampling\n",
    "samples_per_column = total_samples * oversample_factor\n",
    "\n",
    "# Calculate samples per quantile\n",
    "quantiles = 5\n",
    "samples_per_quantile = samples_per_column // quantiles\n",
    "\n",
    "# Quantile samples\n",
    "cone_samples = quantile_sample(df, 'cone', samples_per_quantile)\n",
    "AS_count_samples = quantile_sample(df, 'AS_count', samples_per_quantile)\n",
    "num_samples = pd.concat([cone_samples, AS_count_samples])\n",
    "\n",
    "# Source samples\n",
    "unique_sources = df['source'].nunique()\n",
    "samples_per_source = samples_per_column // unique_sources\n",
    "source_samples = source_sample(df, samples_per_source)\n",
    "\n",
    "# Combine all samples\n",
    "all_samples = pd.concat([num_samples, source_samples])\n",
    "\n",
    "# Draw the desired number of samples from all samples\n",
    "df_for_classification = all_samples.sample(n=total_samples, replace=True).reset_index(drop=True)"
   ]
  },
  {
   "cell_type": "code",
   "execution_count": 62,
   "metadata": {
    "datalore": {
     "hide_input_from_viewers": false,
     "hide_output_from_viewers": false,
     "node_id": "Xh295OViuWkgwyk4bK0BZe",
     "report_properties": {
      "rowId": "aP6MVhKCLcWXi0UOarTS5E"
     },
     "type": "CODE"
    }
   },
   "outputs": [],
   "source": [
    "# Save the dataframe\n",
    "df_for_classification.to_csv('df_for_classification.csv', index=False)"
   ]
  },
  {
   "cell_type": "code",
   "execution_count": 63,
   "metadata": {
    "datalore": {
     "hide_input_from_viewers": true,
     "hide_output_from_viewers": true,
     "node_id": "QEo6ezPGdcnX13tovev72N",
     "type": "CODE"
    }
   },
   "outputs": [
    {
     "name": "stdout",
     "output_type": "stream",
     "text": [
      "Scatter plot displaying AS-Sets with outliers\n"
     ]
    },
    {
     "data": {
      "image/png": "[encoded data removed]"
     },
     "metadata": {
      "image/png": {}
     },
     "output_type": "display_data"
    }
   ],
   "source": [
    "df_backup=df\n",
    "plt.scatter(df.index, df['AS_count'])\n",
    "plt.xlabel('AS-Set index')\n",
    "plt.ylabel('Members Count')\n",
    "plt.show()\n",
    "print('Scatter plot displaying AS-Sets with outliers')"
   ]
  },
  {
   "cell_type": "code",
   "execution_count": 64,
   "metadata": {
    "datalore": {
     "hide_input_from_viewers": true,
     "hide_output_from_viewers": true,
     "node_id": "iO31B5eFPXFJkltKgiZztx",
     "type": "CODE"
    }
   },
   "outputs": [
    {
     "name": "stdout",
     "output_type": "stream",
     "text": [
      "Scatter plot displaying AS-Sets with outliers\n"
     ]
    },
    {
     "data": {
      "image/png": "[encoded data removed]"
     },
     "metadata": {
      "image/png": {}
     },
     "output_type": "display_data"
    }
   ],
   "source": [
    "df_backup=df\n",
    "plt.scatter(df.index, df['AS_count'])\n",
    "plt.xlabel('AS-Set index')\n",
    "plt.ylabel('Members Count')\n",
    "plt.show()\n",
    "print('Scatter plot displaying AS-Sets with outliers')"
   ]
  },
  {
   "cell_type": "code",
   "execution_count": 65,
   "metadata": {
    "datalore": {
     "hide_input_from_viewers": true,
     "hide_output_from_viewers": true,
     "node_id": "xKzxSNV8lkZTH5LNuxKvp0",
     "type": "CODE"
    }
   },
   "outputs": [
    {
     "name": "stdout",
     "output_type": "stream",
     "text": [
      "Scatter plot illustrating the distribution of AS-Sets with \"AS_Count\" below 500\n"
     ]
    },
    {
     "data": {
      "image/png": "[encoded data removed]"
     },
     "metadata": {
      "image/png": {}
     },
     "output_type": "display_data"
    }
   ],
   "source": [
    "df = df[df['AS_count'] <= 500]\n",
    "plt.scatter(df.index, df['AS_count'])\n",
    "plt.xlabel('AS-Set index')\n",
    "plt.ylabel('Members Count')\n",
    "plt.show()\n",
    "print('Scatter plot illustrating the distribution of AS-Sets with \"AS_Count\" below 500')"
   ]
  },
  {
   "cell_type": "code",
   "execution_count": 66,
   "metadata": {
    "datalore": {
     "hide_input_from_viewers": true,
     "hide_output_from_viewers": true,
     "node_id": "8WhGX5uRcs1iz5BnWeKlv5",
     "type": "CODE"
    }
   },
   "outputs": [
    {
     "name": "stdout",
     "output_type": "stream",
     "text": [
      "Scatter plot illustrating the distribution of AS-Sets with \"AS_Count\" below 100\n"
     ]
    },
    {
     "data": {
      "image/png": "[encoded data removed]"
     },
     "metadata": {
      "image/png": {}
     },
     "output_type": "display_data"
    }
   ],
   "source": [
    "df = df[df['AS_count'] <= 100]\n",
    "plt.scatter(df.index, df['AS_count'])\n",
    "plt.xlabel('AS-Set index')\n",
    "plt.ylabel('Members Count')\n",
    "plt.show()\n",
    "print('Scatter plot illustrating the distribution of AS-Sets with \"AS_Count\" below 100')"
   ]
  },
  {
   "cell_type": "code",
   "execution_count": 67,
   "metadata": {
    "datalore": {
     "hide_input_from_viewers": true,
     "hide_output_from_viewers": true,
     "node_id": "dc2ms2GjOg5pOaVQxpXj4h",
     "type": "CODE"
    }
   },
   "outputs": [
    {
     "name": "stdout",
     "output_type": "stream",
     "text": [
      "Scatter plot illustrating the distribution of AS-Sets based on \"cone\" attribute\n"
     ]
    },
    {
     "data": {
      "image/png": "[encoded data removed]"
     },
     "metadata": {
      "image/png": {}
     },
     "output_type": "display_data"
    }
   ],
   "source": [
    "df=df_backup\n",
    "plt.scatter(df.index, df['cone'])\n",
    "plt.xlabel('AS-Set index')\n",
    "plt.ylabel('cone')\n",
    "plt.show()\n",
    "print('Scatter plot illustrating the distribution of AS-Sets based on \"cone\" attribute')"
   ]
  },
  {
   "cell_type": "code",
   "execution_count": 68,
   "metadata": {
    "datalore": {
     "hide_input_from_viewers": true,
     "hide_output_from_viewers": true,
     "node_id": "qKimewtqzq0YVn2KZaLV2I",
     "type": "CODE"
    }
   },
   "outputs": [
    {
     "name": "stdout",
     "output_type": "stream",
     "text": [
      "Scatter plot illustrating the distribution of AS-Sets based on \"cone\" attribute value below 10000\n"
     ]
    },
    {
     "data": {
      "image/png": "[encoded data removed]"
     },
     "metadata": {
      "image/png": {}
     },
     "output_type": "display_data"
    }
   ],
   "source": [
    "df = df[df['cone'] <= 10000]\n",
    "plt.scatter(df.index, df['cone'])\n",
    "plt.xlabel('AS-Set index')\n",
    "plt.ylabel('cone')\n",
    "plt.show()\n",
    "print('Scatter plot illustrating the distribution of AS-Sets based on \"cone\" attribute value below 10000')"
   ]
  },
  {
   "cell_type": "code",
   "execution_count": 69,
   "metadata": {
    "datalore": {
     "hide_input_from_viewers": true,
     "hide_output_from_viewers": true,
     "node_id": "JF1wy9TVnl1Ck2O3R4JyXX",
     "type": "CODE"
    }
   },
   "outputs": [
    {
     "name": "stdout",
     "output_type": "stream",
     "text": [
      "Scatter plot illustrating the distribution of AS-Sets based on \"cone\" attribute value below 150\n"
     ]
    },
    {
     "data": {
      "image/png": "[encoded data removed]"
     },
     "metadata": {
      "image/png": {}
     },
     "output_type": "display_data"
    }
   ],
   "source": [
    "df = df[df['cone'] <= 150]\n",
    "plt.scatter(df.index, df['cone'])\n",
    "plt.xlabel('AS-Set index')\n",
    "plt.ylabel('cone')\n",
    "plt.show()\n",
    "print('Scatter plot illustrating the distribution of AS-Sets based on \"cone\" attribute value below 150')"
   ]
  }
 ],
 "metadata": {
  "datalore": {
   "base_environment": "default",
   "computation_mode": "JUPYTER",
   "package_manager": "pip",
   "packages": [],
   "report_row_ids": [
    "fFy6fIyZtpVgfIpV2nT6S4",
    "pMMomToCm9AyW9NYNPy1HR",
    "tqqLnkTEt1V4boqpmwFjyH",
    "XJiyWLtagnjGVNDtVxKTjK",
    "qy45pp0KYY9d3O02rK4VpO",
    "Nde9kMLk4WzlhP8w2Tuz8k",
    "XqVVYWrEYGNZYwk8qldBF2",
    "I6dudK2epuIBw7Fe9yqIMj",
    "5oVUgmbTHpuAT8g7egx4ZD",
    "vymoDH3Db8FymDsmYh27LK",
    "H6wiK0OUqnLQHOdfeFF9lK",
    "kZai02YFb17m9K7NMC4CL9",
    "JrXgM6Gut0xjdI4cC1vH57",
    "AjnxEpAmQKEKh5s3hSQXvh",
    "7Eie7wwOZsDbkdrJI8RO6F",
    "HgROjZhor8h88FgB1Io8eB",
    "XwDn0oL1k5ObYoyfXKBzkX",
    "CiBJmELOAnqTqi8im0rJmb",
    "5MarDby8h43TichH4gsFTX",
    "oM2ceF2iEekkw6ldAvbNcL",
    "TimQNklIvOtssZEswIsSnR",
    "lgrIEtSrBTJK30obM6m5dd",
    "1pC53PGaoCrNF49xaymEYc",
    "qcwZpOctSdp8Kja9bt8ssO",
    "EYu2w2BjoCJqdcy94Gi993",
    "OMJ5TOkWlYL1PMqr4lKO8H",
    "ryyABXu4EurFnyOUmg48l9",
    "Z0uUwxOYJe6zwzTIercwXu",
    "rU1W1JwApeYhsIqoSJSPY3",
    "n5mmGrgVr9q5RAcSkWhegV",
    "9ixWgu2Kf6Y7GrOREs6E5m",
    "IeM2gYX9RCJfpnzyY6PTLa",
    "ymT96xEsPpRA0hIeQj3iSx",
    "XmEmi8rFH0xDn5jo1LE67j",
    "ak3feRGpijxM8Bz3zS2mUB",
    "PE3UOhyQj5kdhHz0AdOuB8",
    "Jjm7HagFgWknVC8vFQQnrN",
    "0dsGWlywqHQkqMMOoEj54o",
    "QjUAHTcJ666LDkPHDMEf47",
    "A0DvK9AbBSGeOrHH8NonSV",
    "ynWQYikYwwReRc4uvD94Lj",
    "DiQmIiOcdPZbf7rYP00x9s",
    "YfRPJQ0rpvhaJ6zOdG3dIl",
    "fvOcKXI5aTiRQNeCM7u9Yi",
    "VPFt3svtt7kll1eBX4c8sI",
    "vZnIWYZzXdTaxf3NrdyP3A",
    "R3Huf7dKmMf8snAq1EB7bB",
    "JbGnOBwhaaSKL1Lg7zRY5E",
    "TUxhiel0KHqDwPJozNv9Bp",
    "hXU6XjxtArbDt5VPYKt2wz",
    "5vUBVWWGWjTfAWaNPA4TNo"
   ],
   "version": 3
  },
  "kernelspec": {
   "display_name": "Python 3 (ipykernel)",
   "language": "python",
   "name": "python3"
  },
  "language_info": {
   "codemirror_mode": {
    "name": "ipython",
    "version": 3
   },
   "file_extension": ".py",
   "mimetype": "text/x-python",
   "name": "python",
   "nbconvert_exporter": "python",
   "pygments_lexer": "ipython3",
   "version": "3.10.6"
  }
 },
 "nbformat": 4,
 "nbformat_minor": 4
}
